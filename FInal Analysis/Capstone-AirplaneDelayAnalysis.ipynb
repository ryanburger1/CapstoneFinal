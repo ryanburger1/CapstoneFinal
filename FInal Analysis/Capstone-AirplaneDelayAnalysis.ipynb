{
 "cells": [
  {
   "cell_type": "markdown",
   "metadata": {},
   "source": [
    "# Reece Boyce: Airline Delay Analysis"
   ]
  },
  {
   "cell_type": "markdown",
   "metadata": {},
   "source": [
    "### Analysis Introduction:\n",
    "\n",
    "For this analysis I wanted to tackle the challenge that is flight delays and see if they can be predicted using machine learning models. In this analysis I performed data cleaning, preprocessing, and model evaluation to come up with a recommendation for airlines who could benefit from increased oversight on their flights.\n",
    "\n",
    "Models Evaluated include:\n",
    "* XGBoost\n",
    "* RandomForest\n",
    "* Logistic Regression \n",
    "\n",
    "Metrics Evaluated include but are not limited to:\n",
    "* Flight Year, Month, Day\n",
    "* Carrier \n",
    "* Origin/Destination\n",
    "* Departure Times\n",
    "* Taxi Times \n",
    "* Airtime and Distance Traveled \n",
    "\n",
    "These metrics were selected because they provide the best insight into flight delays and will be encoded properly to work with our selected models."
   ]
  },
  {
   "cell_type": "markdown",
   "metadata": {},
   "source": [
    "First, we will start our analysis by importing neccesary packages."
   ]
  },
  {
   "cell_type": "code",
   "execution_count": 1,
   "metadata": {},
   "outputs": [],
   "source": [
    "# Importing packages needed for analysis\n",
    "import pandas as pd \n",
    "import numpy as np\n",
    "import matplotlib.pyplot as plt\n",
    "import matplotlib.ticker as ticker\n",
    "from sklearn.preprocessing import OneHotEncoder\n",
    "import random\n",
    "from sklearn.linear_model import LogisticRegression\n",
    "from sklearn.model_selection import train_test_split\n",
    "from sklearn.preprocessing import StandardScaler\n",
    "from sklearn.metrics import f1_score\n",
    "import time\n",
    "from sklearn.model_selection import StratifiedKFold\n",
    "from sklearn.model_selection import GridSearchCV\n",
    "from sklearn.model_selection import KFold\n",
    "from sklearn.metrics import confusion_matrix\n",
    "from sklearn.metrics import precision_score\n",
    "from sklearn.metrics import accuracy_score\n",
    "from sklearn.metrics import recall_score\n",
    "from sklearn.ensemble import RandomForestClassifier\n",
    "from sklearn.model_selection import RandomizedSearchCV\n",
    "import xgboost as xgb"
   ]
  },
  {
   "cell_type": "markdown",
   "metadata": {},
   "source": [
    "Loading in 2019 data subset:"
   ]
  },
  {
   "cell_type": "code",
   "execution_count": 2,
   "metadata": {},
   "outputs": [],
   "source": [
    "# Reading in data \n",
    "df_2019 = pd.read_csv('2019.csv')"
   ]
  },
  {
   "cell_type": "code",
   "execution_count": 3,
   "metadata": {},
   "outputs": [
    {
     "data": {
      "text/plain": [
       "(7422037, 21)"
      ]
     },
     "execution_count": 3,
     "metadata": {},
     "output_type": "execute_result"
    }
   ],
   "source": [
    "# Checking to see how much flight data is in this year\n",
    "df_2019.shape"
   ]
  },
  {
   "cell_type": "markdown",
   "metadata": {},
   "source": [
    "We can see that with +7.4 million datapoints, if the entire dataset was loaded in (2009-2019) over +60 million flights would need to be analyzed and sorted. Due to lack of computing power, I decided to take only the top 10 airports by volume into consideration for my proof of concept."
   ]
  },
  {
   "cell_type": "code",
   "execution_count": 4,
   "metadata": {},
   "outputs": [
    {
     "data": {
      "image/png": "[encoded data removed]",
      "text/plain": [
       "<Figure size 432x288 with 1 Axes>"
      ]
     },
     "metadata": {
      "needs_background": "light"
     },
     "output_type": "display_data"
    }
   ],
   "source": [
    "# Setting counts variable to see which airports have the most flight volume and graphing \n",
    "counts = df_2019.groupby('ORIGIN')['ORIGIN'].count()\n",
    "big_airports = counts.sort_values(ascending=False).head(10)\n",
    "\n",
    "x_values= big_airports.index\n",
    "y_values= big_airports.values\n",
    "\n",
    "fig, ax = plt.subplots()\n",
    "\n",
    "ax.bar(x_values, y_values, color='#86BC25')\n",
    "\n",
    "ax.set_title('Airport Volume in 2019')\n",
    "ax.set_xlabel('Airport')\n",
    "ax.set_ylabel('Total Flights')\n",
    "\n",
    "plt.show()"
   ]
  },
  {
   "cell_type": "code",
   "execution_count": 5,
   "metadata": {},
   "outputs": [],
   "source": [
    "# Sorting the top 10 airports by volume and assigning a variable to that list\n",
    "airport_names = big_airports.index\n",
    "airports = airport_names.tolist()\n",
    "\n",
    "# Setting the dataframe to only contain flights by top 10 airport volume\n",
    "df_2019 = df_2019.loc[df_2019['ORIGIN'].isin(airports) & df_2019['DEST'].isin(airports)]"
   ]
  },
  {
   "cell_type": "code",
   "execution_count": 6,
   "metadata": {},
   "outputs": [
    {
     "data": {
      "text/plain": [
       "(486282, 21)"
      ]
     },
     "execution_count": 6,
     "metadata": {},
     "output_type": "execute_result"
    }
   ],
   "source": [
    "# Look at the reduction in size!\n",
    "df_2019.shape"
   ]
  },
  {
   "cell_type": "markdown",
   "metadata": {},
   "source": [
    "Next, I created a \"Delay\" column that was set to the value of 1 for any flights that had any delay listed in the code, 0 if it was on time. After the \"Delay\" column was created the other columns were dropped as they were not needed for the rest of the analysis."
   ]
  },
  {
   "cell_type": "code",
   "execution_count": 7,
   "metadata": {},
   "outputs": [],
   "source": [
    "# Creating Delay column\n",
    "df_2019['Delay'] = np.where((df_2019['CARRIER_DELAY'] > 0) | \n",
    "                       (df_2019['WEATHER_DELAY'] > 0) | \n",
    "                       (df_2019['NAS_DELAY'] > 0) | \n",
    "                       (df_2019['SECURITY_DELAY'] > 0) | \n",
    "                       (df_2019['ARR_DELAY'] > 0) |\n",
    "                       (df_2019['DEP_DELAY'] > 0) |\n",
    "                       (df_2019['LATE_AIRCRAFT_DELAY'] > 0), 1, 0)\n",
    "\n",
    "# Dropping unnecessary columns \n",
    "df_2019.drop(columns=['Unnamed: 20', \n",
    "                 'CARRIER_DELAY',\n",
    "                 'WEATHER_DELAY',\n",
    "                 'NAS_DELAY',\n",
    "                 'SECURITY_DELAY',\n",
    "                 'ARR_DELAY',\n",
    "                 'DEP_DELAY',\n",
    "                 'LATE_AIRCRAFT_DELAY'], inplace=True)\n",
    "\n",
    "# Removing Null values from the following columns\n",
    "df_2019.dropna(subset=['DEP_TIME', \n",
    "                       'TAXI_OUT', \n",
    "                       'WHEELS_OFF', \n",
    "                       'WHEELS_ON', \n",
    "                       'TAXI_IN', \n",
    "                       'ARR_TIME', \n",
    "                       'AIR_TIME'], inplace=True)\n",
    "\n",
    "# Renaming columns for easier manipulation later on \n",
    "df_2019.rename(columns = {'OP_UNIQUE_CARRIER':'OP_CARRIER'},inplace=True)"
   ]
  },
  {
   "cell_type": "markdown",
   "metadata": {},
   "source": [
    "The list of carriers is extensive. So, I decided for this proof of concept I wanted to also only focus on only the top national carriers. "
   ]
  },
  {
   "cell_type": "code",
   "execution_count": 8,
   "metadata": {},
   "outputs": [
    {
     "data": {
      "image/png": "[encoded data removed]",
      "text/plain": [
       "<Figure size 432x288 with 1 Axes>"
      ]
     },
     "metadata": {
      "needs_background": "light"
     },
     "output_type": "display_data"
    }
   ],
   "source": [
    "counts_1 = df_2019.groupby('OP_CARRIER')['OP_CARRIER'].count()\n",
    "biggest_carriers = counts_1.sort_values(ascending=False).head(12)\n",
    "\n",
    "x_values = biggest_carriers.index\n",
    "y_values = biggest_carriers.values \n",
    "\n",
    "fig, ax = plt.subplots()\n",
    "\n",
    "ax.bar(x_values, y_values, color='#86BC25')\n",
    "\n",
    "ax.set_title('Top Airlines in 2019')\n",
    "ax.set_xlabel('Airline')\n",
    "ax.set_ylabel('Total Flights')\n",
    "\n",
    "plt.show()"
   ]
  },
  {
   "cell_type": "code",
   "execution_count": 9,
   "metadata": {},
   "outputs": [],
   "source": [
    "# Indexing top carriers and adding them to a list called 'airlines'\n",
    "airline_names = biggest_carriers.index\n",
    "airlines = airline_names.tolist()\n",
    "\n",
    "# Flitering data to only include carriers included in airlines \n",
    "carrier_list = df_2019['OP_CARRIER'].isin(airlines)\n",
    "df_model = df_2019[carrier_list]"
   ]
  },
  {
   "cell_type": "code",
   "execution_count": 10,
   "metadata": {},
   "outputs": [
    {
     "data": {
      "text/plain": [
       "(472097, 14)"
      ]
     },
     "execution_count": 10,
     "metadata": {},
     "output_type": "execute_result"
    }
   ],
   "source": [
    "# Checking data size\n",
    "df_model.shape"
   ]
  },
  {
   "cell_type": "markdown",
   "metadata": {},
   "source": [
    "In this portion of code, I looked at encoding variables that were non integers and set the \"FL_Date\" to model freindly values like Day, Month, and Year that can be interpreted by the final models."
   ]
  },
  {
   "cell_type": "code",
   "execution_count": 11,
   "metadata": {},
   "outputs": [
    {
     "name": "stderr",
     "output_type": "stream",
     "text": [
      "<ipython-input-11-d40d7585f33e>:2: SettingWithCopyWarning: \n",
      "A value is trying to be set on a copy of a slice from a DataFrame.\n",
      "Try using .loc[row_indexer,col_indexer] = value instead\n",
      "\n",
      "See the caveats in the documentation: https://pandas.pydata.org/pandas-docs/stable/user_guide/indexing.html#returning-a-view-versus-a-copy\n",
      "  df_model['date'] = pd.to_datetime(df_model['FL_DATE'])\n",
      "<ipython-input-11-d40d7585f33e>:5: SettingWithCopyWarning: \n",
      "A value is trying to be set on a copy of a slice from a DataFrame.\n",
      "Try using .loc[row_indexer,col_indexer] = value instead\n",
      "\n",
      "See the caveats in the documentation: https://pandas.pydata.org/pandas-docs/stable/user_guide/indexing.html#returning-a-view-versus-a-copy\n",
      "  df_model['year'] = df_model['date'].dt.year\n",
      "<ipython-input-11-d40d7585f33e>:6: SettingWithCopyWarning: \n",
      "A value is trying to be set on a copy of a slice from a DataFrame.\n",
      "Try using .loc[row_indexer,col_indexer] = value instead\n",
      "\n",
      "See the caveats in the documentation: https://pandas.pydata.org/pandas-docs/stable/user_guide/indexing.html#returning-a-view-versus-a-copy\n",
      "  df_model['month'] = df_model['date'].dt.month\n",
      "<ipython-input-11-d40d7585f33e>:7: SettingWithCopyWarning: \n",
      "A value is trying to be set on a copy of a slice from a DataFrame.\n",
      "Try using .loc[row_indexer,col_indexer] = value instead\n",
      "\n",
      "See the caveats in the documentation: https://pandas.pydata.org/pandas-docs/stable/user_guide/indexing.html#returning-a-view-versus-a-copy\n",
      "  df_model['day_of_week'] = df_model['date'].dt.dayofweek\n"
     ]
    }
   ],
   "source": [
    "# Setting the date column to datetime for extraction\n",
    "df_model['date'] = pd.to_datetime(df_model['FL_DATE'])\n",
    "\n",
    "# Extracted the year, month, and day of the week from the new date field\n",
    "df_model['year'] = df_model['date'].dt.year\n",
    "df_model['month'] = df_model['date'].dt.month\n",
    "df_model['day_of_week'] = df_model['date'].dt.dayofweek\n",
    "\n",
    "# Drop the original date field and FL_DATE\n",
    "df_model = df_model.drop(columns=['date', 'FL_DATE'])\n",
    "df_model= df_model[['year', 'month', 'day_of_week', 'OP_CARRIER', 'OP_CARRIER_FL_NUM', 'ORIGIN', 'DEST',\n",
    "                               'DEP_TIME', 'TAXI_OUT', 'WHEELS_OFF', 'WHEELS_ON', 'TAXI_IN', 'ARR_TIME',\n",
    "                               'AIR_TIME', 'DISTANCE', 'Delay']]\n",
    "\n",
    "# Dropped the Null Values from these subsets \n",
    "df_model.dropna(subset=['year', 'month', 'day_of_week'], inplace=True)\n",
    "\n",
    "# Last, I encoded each of the 3 remaining variables \n",
    "df_model = pd.get_dummies(df_model, columns=['OP_CARRIER', 'ORIGIN', 'DEST'])"
   ]
  },
  {
   "cell_type": "markdown",
   "metadata": {},
   "source": [
    "# Modeling\n",
    "\n",
    "In this section of the analysis notebook I go over the 3 models I used to gather predictions on these 2019 flights.\n",
    "\n",
    "3 models included in my analysis:\n",
    "* Logistic Regression\n",
    "* Random Forest\n",
    "* XGBoost\n",
    "\n",
    "Since my analysis will be focusing on binary classification (will or will not) where the pridiction is a 1 or 0 Logistic Regression is a good place to start as it is typically faster, and less computationally expensive when compared to\n",
    "the other models."
   ]
  },
  {
   "cell_type": "code",
   "execution_count": 12,
   "metadata": {},
   "outputs": [
    {
     "data": {
      "text/plain": [
       "year                 0\n",
       "month                0\n",
       "day_of_week          0\n",
       "OP_CARRIER_FL_NUM    0\n",
       "DEP_TIME             0\n",
       "TAXI_OUT             0\n",
       "WHEELS_OFF           0\n",
       "WHEELS_ON            0\n",
       "TAXI_IN              0\n",
       "ARR_TIME             0\n",
       "AIR_TIME             0\n",
       "DISTANCE             0\n",
       "Delay                0\n",
       "OP_CARRIER_9E        0\n",
       "OP_CARRIER_AA        0\n",
       "OP_CARRIER_AS        0\n",
       "OP_CARRIER_DL        0\n",
       "OP_CARRIER_F9        0\n",
       "OP_CARRIER_NK        0\n",
       "OP_CARRIER_OH        0\n",
       "OP_CARRIER_OO        0\n",
       "OP_CARRIER_UA        0\n",
       "OP_CARRIER_WN        0\n",
       "OP_CARRIER_YV        0\n",
       "OP_CARRIER_YX        0\n",
       "ORIGIN_ATL           0\n",
       "ORIGIN_CLT           0\n",
       "ORIGIN_DEN           0\n",
       "ORIGIN_DFW           0\n",
       "ORIGIN_IAH           0\n",
       "ORIGIN_LAX           0\n",
       "ORIGIN_LGA           0\n",
       "ORIGIN_ORD           0\n",
       "ORIGIN_PHX           0\n",
       "ORIGIN_SFO           0\n",
       "DEST_ATL             0\n",
       "DEST_CLT             0\n",
       "DEST_DEN             0\n",
       "DEST_DFW             0\n",
       "DEST_IAH             0\n",
       "DEST_LAX             0\n",
       "DEST_LGA             0\n",
       "DEST_ORD             0\n",
       "DEST_PHX             0\n",
       "DEST_SFO             0\n",
       "dtype: int64"
      ]
     },
     "execution_count": 12,
     "metadata": {},
     "output_type": "execute_result"
    }
   ],
   "source": [
    "#Verifying all Null values are accounted for\n",
    "df_model.isnull().sum()"
   ]
  },
  {
   "cell_type": "markdown",
   "metadata": {},
   "source": [
    "### Logistic Regression Model\n",
    "\n",
    "First we are going to start off with setting our X, and y values."
   ]
  },
  {
   "cell_type": "code",
   "execution_count": 13,
   "metadata": {},
   "outputs": [],
   "source": [
    "X = df_model.drop('Delay', axis=1)\n",
    "y = df_model['Delay']\n",
    "\n",
    "#Setting train test split to automatically split up the data \n",
    "X_train, X_test, y_train, y_test = train_test_split(X, y, test_size=0.2, random_state=12)"
   ]
  },
  {
   "cell_type": "markdown",
   "metadata": {},
   "source": [
    "Next, we are going to normalize the values of y, which give us a good insight into the percentage of flights that were delayed(1) vs. not delayed(0). This is particularly helpful in determining if we will need to use class weights or not."
   ]
  },
  {
   "cell_type": "code",
   "execution_count": 14,
   "metadata": {},
   "outputs": [
    {
     "data": {
      "image/png": "[encoded data removed]",
      "text/plain": [
       "<Figure size 432x288 with 1 Axes>"
      ]
     },
     "metadata": {
      "needs_background": "light"
     },
     "output_type": "display_data"
    },
    {
     "name": "stdout",
     "output_type": "stream",
     "text": [
      "1    0.509078\n",
      "0    0.490922\n",
      "Name: Delay, dtype: float64\n"
     ]
    }
   ],
   "source": [
    "# Graphing the values \n",
    "y.value_counts(normalize=True).plot(kind='bar', color='#86BC25')\n",
    "\n",
    "# Setting plot features\n",
    "plt.title('Total Delayed Flights in 2019')\n",
    "plt.xlabel('Flight Status')\n",
    "plt.ylabel('Total Flights')\n",
    "plt.xticks([0, 1], ['Delayed', 'Not Delayed'])\n",
    "plt.show()\n",
    "print(y.value_counts(normalize=True))"
   ]
  },
  {
   "cell_type": "markdown",
   "metadata": {},
   "source": [
    "Since we are dealing with Logistic Regression, data needs to be scaled using a scaler, before fitting the baseline model. "
   ]
  },
  {
   "cell_type": "code",
   "execution_count": 15,
   "metadata": {},
   "outputs": [],
   "source": [
    "#Fitting the scalar to non binary train and test data\n",
    "scale = StandardScaler()\n",
    "X_train = scale.fit_transform(X_train)\n",
    "X_test = scale.fit_transform(X_test)"
   ]
  },
  {
   "cell_type": "markdown",
   "metadata": {},
   "source": [
    "Next, we are going to fit our baseline model and time the performance for comparison."
   ]
  },
  {
   "cell_type": "code",
   "execution_count": 16,
   "metadata": {},
   "outputs": [
    {
     "name": "stdout",
     "output_type": "stream",
     "text": [
      "Training time: 1.9225378036499023 seconds\n",
      "Prediction time: 0.017599105834960938 seconds\n",
      "F1 score for the base model is:  0.6544705415294155\n"
     ]
    }
   ],
   "source": [
    "# Setting up the baseline model\n",
    "lr_basemodel = LogisticRegression()\n",
    "\n",
    "# Timing performance for presentation statistics\n",
    "start_time = time.time()\n",
    "lr_basemodel.fit(X_train, y_train)\n",
    "end_time = time.time()\n",
    "\n",
    "# Calculate the training time\n",
    "training_time = end_time - start_time\n",
    "\n",
    "# Make predictions with the model\n",
    "start_time = time.time()\n",
    "predictions_lr_bm = lr_basemodel.predict(X_test)\n",
    "end_time = time.time()\n",
    "\n",
    "# Calculate the prediction time\n",
    "prediction_time = end_time - start_time\n",
    "\n",
    "# Printing out times and F1 score for the baseline LR model\n",
    "print(\"Training time: {} seconds\".format(training_time))\n",
    "print(\"Prediction time: {} seconds\".format(prediction_time))\n",
    "print('F1 score for the base model is: ',f1_score(y_test,predictions_lr_bm))"
   ]
  },
  {
   "cell_type": "markdown",
   "metadata": {},
   "source": [
    "### Tuning the Logistic Regression Basemodel\n",
    "\n",
    "Tuning is very important... In this section we will be using SKlearn's tool GridSearchCV to check all parameter combinations to give us the optimal model."
   ]
  },
  {
   "cell_type": "code",
   "execution_count": 17,
   "metadata": {},
   "outputs": [
    {
     "data": {
      "text/plain": [
       "GridSearchCV(cv=KFold(n_splits=5, random_state=None, shuffle=True),\n",
       "             estimator=LogisticRegression(max_iter=500),\n",
       "             param_grid={'C': [0.001, 0.01, 0.1, 1], 'penalty': ['l1', 'l2'],\n",
       "                         'solver': ['liblinear']},\n",
       "             return_train_score=True, scoring='f1')"
      ]
     },
     "execution_count": 17,
     "metadata": {},
     "output_type": "execute_result"
    }
   ],
   "source": [
    "#Initializing the model\n",
    "lr = LogisticRegression(max_iter = 500)\n",
    "\n",
    "#Setting up the hyperperameters\n",
    "weights = np.linspace(0,0.99,100)\n",
    "param = {'C': [0.001, 0.01, 0.1, 1], \n",
    "         'penalty': ['l1','l2'], \n",
    "         'solver':['liblinear']}\n",
    "folds = KFold(n_splits = 5, shuffle=True)\n",
    "\n",
    "# Fitting the model to find optimal hyperperameters \n",
    "model = GridSearchCV(estimator= lr, param_grid=param, scoring=\"f1\", cv=folds, return_train_score=True)\n",
    "model.fit(X_train, y_train)"
   ]
  },
  {
   "cell_type": "code",
   "execution_count": 18,
   "metadata": {},
   "outputs": [
    {
     "name": "stdout",
     "output_type": "stream",
     "text": [
      "{'C': 0.1, 'penalty': 'l2', 'solver': 'liblinear'}\n"
     ]
    }
   ],
   "source": [
    "#Finding the optimal perameters\n",
    "print(model.best_params_)"
   ]
  },
  {
   "cell_type": "markdown",
   "metadata": {},
   "source": [
    "Now that the model has the optimal hyperperameters we will fit the final tuned model and record the confusion matrix, accuracy, precision, recall, and f1 score to compare with RandomForest and XGboost."
   ]
  },
  {
   "cell_type": "code",
   "execution_count": 19,
   "metadata": {},
   "outputs": [
    {
     "name": "stdout",
     "output_type": "stream",
     "text": [
      "F1 score for the LR tuned model is:  0.6544705415294155\n",
      "Precision for the LR tuned model is: 0.6723693203112944\n",
      "Recall for the LR tuned model is: 0.6375\n",
      "Accuracy for the LR tuned model is: 0.6589387841558991\n"
     ]
    }
   ],
   "source": [
    "# Setting up tuned model with best hyperperameters\n",
    "lr_tuned=LogisticRegression(max_iter=500, \n",
    "                            C=1, \n",
    "                            penalty='l2', \n",
    "                            solver='liblinear')\n",
    "\n",
    "# fitting the model\n",
    "lr.fit(X_train, y_train)\n",
    "\n",
    "#Making predictions\n",
    "predictions_lr = lr.predict(X_test)\n",
    "\n",
    "#Printing results of tuned model\n",
    "print('F1 score for the LR tuned model is: ',f1_score(y_test,predictions_lr))\n",
    "print('Precision for the LR tuned model is:',precision_score(y_test, predictions_lr))\n",
    "print('Recall for the LR tuned model is:',recall_score(y_test, predictions_lr))\n",
    "print('Accuracy for the LR tuned model is:',accuracy_score(y_test, predictions_lr))"
   ]
  },
  {
   "cell_type": "code",
   "execution_count": 20,
   "metadata": {},
   "outputs": [
    {
     "name": "stdout",
     "output_type": "stream",
     "text": [
      "[[31719 14861]\n",
      " [17342 30498]]\n"
     ]
    }
   ],
   "source": [
    "print(confusion_matrix(y_test, predictions_lr))"
   ]
  },
  {
   "cell_type": "markdown",
   "metadata": {},
   "source": [
    "### Random Forest Model"
   ]
  },
  {
   "cell_type": "markdown",
   "metadata": {},
   "source": [
    "First, we reset the train test split as RandomForest can work with data that is not scaled. "
   ]
  },
  {
   "cell_type": "code",
   "execution_count": 21,
   "metadata": {},
   "outputs": [],
   "source": [
    "X_train, X_test, y_train, y_test = train_test_split(X, y, test_size=0.2, random_state=12)"
   ]
  },
  {
   "cell_type": "markdown",
   "metadata": {},
   "source": [
    "Next we fit our RandomForest basemodel and time the performance for comparison."
   ]
  },
  {
   "cell_type": "code",
   "execution_count": 22,
   "metadata": {},
   "outputs": [
    {
     "name": "stdout",
     "output_type": "stream",
     "text": [
      "Training time: 41.25457191467285 seconds\n",
      "Prediction time: 0.7672271728515625 seconds\n",
      "F1 score for the RandomForest base model is:  0.6535620633745021\n"
     ]
    }
   ],
   "source": [
    "# Setting up the baseline model\n",
    "rf_basemodel = RandomForestClassifier(max_depth=5, random_state=12)\n",
    "\n",
    "# Timing performance for presentation statistics\n",
    "start_time = time.time()\n",
    "rf_basemodel.fit(X_train, y_train)\n",
    "end_time = time.time()\n",
    "\n",
    "# Calculate the training time\n",
    "training_time = end_time - start_time\n",
    "\n",
    "# Make predictions with the model\n",
    "start_time = time.time()\n",
    "predictions_rf_bm = rf_basemodel.predict(X_test)\n",
    "end_time = time.time()\n",
    "\n",
    "# Calculate the prediction time\n",
    "prediction_time = end_time - start_time\n",
    "\n",
    "# Printing out times and F1 score for the baseline RF model\n",
    "print(\"Training time: {} seconds\".format(training_time))\n",
    "print(\"Prediction time: {} seconds\".format(prediction_time))\n",
    "print('F1 score for the RandomForest base model is: ',f1_score(y_test,predictions_rf_bm))"
   ]
  },
  {
   "cell_type": "markdown",
   "metadata": {},
   "source": [
    "### Tuning the RandomForest Basemodel\n",
    "\n",
    "Once again using GridSearchCV to tune model performance for best overall statistics."
   ]
  },
  {
   "cell_type": "code",
   "execution_count": 23,
   "metadata": {},
   "outputs": [
    {
     "data": {
      "text/plain": [
       "GridSearchCV(cv=5, estimator=RandomForestClassifier(),\n",
       "             param_grid={'criterion': ['gini', 'entropy'],\n",
       "                         'max_depth': [4, 5, 6, 7, 8],\n",
       "                         'max_features': ['auto', 'sqrt', 'log2'],\n",
       "                         'n_estimators': [200, 500]})"
      ]
     },
     "execution_count": 23,
     "metadata": {},
     "output_type": "execute_result"
    }
   ],
   "source": [
    "# Initializing the model\n",
    "rf_basemodel = RandomForestClassifier()\n",
    "\n",
    "#Setting up the hyperperameters\n",
    "param_grid = { \n",
    "    'n_estimators': [200, 500],\n",
    "    'max_features': ['auto', 'sqrt', 'log2'],\n",
    "    'max_depth' : [4,5,6,7,8],\n",
    "    'criterion' :['gini', 'entropy']\n",
    "}\n",
    "\n",
    "# Fitting the model to find optimal hyperperameters \n",
    "CV_rfc = GridSearchCV(estimator=rf_basemodel, param_grid=param_grid, cv= 5)\n",
    "CV_rfc.fit(X_train, y_train)"
   ]
  },
  {
   "cell_type": "code",
   "execution_count": 24,
   "metadata": {},
   "outputs": [
    {
     "name": "stdout",
     "output_type": "stream",
     "text": [
      "{'criterion': 'gini', 'max_depth': 8, 'max_features': 'auto', 'n_estimators': 200}\n"
     ]
    }
   ],
   "source": [
    "# Finding the best perameters\n",
    "print(CV_rfc.best_params_)"
   ]
  },
  {
   "cell_type": "markdown",
   "metadata": {},
   "source": [
    "Now that the model has the optimal hyperperameters we will fit the final tuned model and record the confusion matrix, accuracy, precision, recall, and f1 score to compare with Logistic Regression and XGboost."
   ]
  },
  {
   "cell_type": "code",
   "execution_count": 25,
   "metadata": {},
   "outputs": [
    {
     "name": "stdout",
     "output_type": "stream",
     "text": [
      "F1 score for the RandomForest tuned model is:  0.6633482175536197\n",
      "Precision for the RandomForest tuned model is: 0.6637160734090861\n",
      "Recall for the RandomForest tuned model is: 0.6629807692307692\n",
      "Accuracy for the RandomForest tuned model is: 0.6590446939207795\n"
     ]
    }
   ],
   "source": [
    "# Setting up tuned model with best hyperperameters\n",
    "rf_tuned = RandomForestClassifier(criterion='gini', \n",
    "                                  max_depth=8, \n",
    "                                  max_features='sqrt', \n",
    "                                  n_estimators= 200, \n",
    "                                  random_state=12)\n",
    "\n",
    "# Fitting the model\n",
    "rf_tuned.fit(X_train, y_train)\n",
    "\n",
    "# Making predictions\n",
    "predictions_rf = rf_tuned.predict(X_test)\n",
    "\n",
    "# Printing results of tuned model\n",
    "print('F1 score for the RandomForest tuned model is: ',f1_score(y_test,predictions_rf))\n",
    "print('Precision for the RandomForest tuned model is:',precision_score(y_test, predictions_rf))\n",
    "print('Recall for the RandomForest tuned model is:',recall_score(y_test, predictions_rf))\n",
    "print('Accuracy for the RandomForest tuned model is:',accuracy_score(y_test, predictions_rf))"
   ]
  },
  {
   "cell_type": "code",
   "execution_count": 26,
   "metadata": {},
   "outputs": [
    {
     "data": {
      "text/plain": [
       "array([[30510, 16070],\n",
       "       [16123, 31717]], dtype=int64)"
      ]
     },
     "execution_count": 26,
     "metadata": {},
     "output_type": "execute_result"
    }
   ],
   "source": [
    "confusion_matrix(y_test, predictions_rf)"
   ]
  },
  {
   "cell_type": "markdown",
   "metadata": {},
   "source": [
    "### XGBoost Model"
   ]
  },
  {
   "cell_type": "markdown",
   "metadata": {},
   "source": [
    "First, we reset the train test split as XGBoost can work with data that is not scaled."
   ]
  },
  {
   "cell_type": "code",
   "execution_count": 27,
   "metadata": {},
   "outputs": [],
   "source": [
    "X_train, X_test, y_train, y_test = train_test_split(X, y, test_size=0.2, random_state=12)"
   ]
  },
  {
   "cell_type": "markdown",
   "metadata": {},
   "source": [
    "Next we fit our XGBoost basemodel and time the performance for comparison."
   ]
  },
  {
   "cell_type": "code",
   "execution_count": 28,
   "metadata": {},
   "outputs": [
    {
     "name": "stdout",
     "output_type": "stream",
     "text": [
      "Training time: 17.059042930603027 seconds\n",
      "Prediction time: 0.3152120113372803 seconds\n",
      "F1 score for the XGBoost base model is:  0.7226787899982513\n"
     ]
    }
   ],
   "source": [
    "# Setting up the baseline model\n",
    "model_xg = xgb.XGBClassifier()\n",
    "\n",
    "# Timing performance for presentation statistics\n",
    "start_time = time.time()\n",
    "model_xg.fit(X_train, y_train)\n",
    "end_time = time.time()\n",
    "\n",
    "# Calculate the training time\n",
    "training_time = end_time - start_time\n",
    "\n",
    "# Make predictions with the model\n",
    "start_time = time.time()\n",
    "predictions_XG_bm = model_xg.predict(X_test)\n",
    "end_time = time.time()\n",
    "\n",
    "# Calculate the prediction time\n",
    "prediction_time = end_time - start_time\n",
    "\n",
    "# Printing out times and F1 score for the baseline RF model\n",
    "print(\"Training time: {} seconds\".format(training_time))\n",
    "print(\"Prediction time: {} seconds\".format(prediction_time))\n",
    "print('F1 score for the XGBoost base model is: ',f1_score(y_test,predictions_XG_bm))"
   ]
  },
  {
   "cell_type": "markdown",
   "metadata": {},
   "source": [
    "### Tuning the XGBoost Basemodel"
   ]
  },
  {
   "cell_type": "markdown",
   "metadata": {},
   "source": [
    "Once again using GridSearchCV to tune model performance for best overall statistics."
   ]
  },
  {
   "cell_type": "code",
   "execution_count": 30,
   "metadata": {},
   "outputs": [
    {
     "name": "stdout",
     "output_type": "stream",
     "text": [
      "Fitting 5 folds for each of 96 candidates, totalling 480 fits\n"
     ]
    },
    {
     "name": "stderr",
     "output_type": "stream",
     "text": [
      "[Parallel(n_jobs=-1)]: Using backend LokyBackend with 8 concurrent workers.\n",
      "[Parallel(n_jobs=-1)]: Done  34 tasks      | elapsed: 15.5min\n",
      "[Parallel(n_jobs=-1)]: Done 184 tasks      | elapsed: 111.8min\n",
      "[Parallel(n_jobs=-1)]: Done 434 tasks      | elapsed: 224.4min\n",
      "[Parallel(n_jobs=-1)]: Done 480 out of 480 | elapsed: 254.6min finished\n"
     ]
    },
    {
     "data": {
      "text/plain": [
       "GridSearchCV(cv=5,\n",
       "             estimator=XGBClassifier(base_score=None, booster=None,\n",
       "                                     colsample_bylevel=None,\n",
       "                                     colsample_bynode=None,\n",
       "                                     colsample_bytree=None, gamma=None,\n",
       "                                     gpu_id=None, importance_type='gain',\n",
       "                                     interaction_constraints=None,\n",
       "                                     learning_rate=None, max_delta_step=None,\n",
       "                                     max_depth=None, min_child_weight=None,\n",
       "                                     missing=nan, monotone_constraints=None,\n",
       "                                     n_estimators=100, n_jobs=None, nthread=4,\n",
       "                                     num_parallel_tree=None, random_state=None,\n",
       "                                     reg_alpha=None, reg_lambda=None,\n",
       "                                     scale_pos_weight=None, seed=42,\n",
       "                                     subsample=None, tree_method=None,\n",
       "                                     validate_parameters=None, verbosity=None),\n",
       "             n_jobs=-1,\n",
       "             param_grid={'learning_rate': [0.1, 0.01, 0.05],\n",
       "                         'max_depth': range(2, 10),\n",
       "                         'n_estimators': range(60, 220, 40)},\n",
       "             scoring='roc_auc', verbose=True)"
      ]
     },
     "execution_count": 30,
     "metadata": {},
     "output_type": "execute_result"
    }
   ],
   "source": [
    "# Initializing the model\n",
    "XGBoost_tuned = xgb.XGBClassifier(\n",
    "    objective= 'binary:logistic',\n",
    "    nthread=4,\n",
    "    seed=42\n",
    ")\n",
    "\n",
    "#Setting up the hyperperameters\n",
    "parameters = {\n",
    "    'max_depth': range (2, 10, 1),\n",
    "    'n_estimators': range(60, 220, 40),\n",
    "    'learning_rate': [0.1, 0.01, 0.05]\n",
    "}\n",
    "\n",
    "# Fitting the model to find optimal hyperperameters \n",
    "grid_search = GridSearchCV(\n",
    "    estimator=XGBoost_tuned,\n",
    "    param_grid=parameters,\n",
    "    scoring = 'roc_auc',\n",
    "    n_jobs = -1,\n",
    "    cv = 5,\n",
    "    verbose=True\n",
    ")\n",
    "grid_search.fit(X_train, y_train)"
   ]
  },
  {
   "cell_type": "code",
   "execution_count": 31,
   "metadata": {},
   "outputs": [
    {
     "name": "stdout",
     "output_type": "stream",
     "text": [
      "{'learning_rate': 0.1, 'max_depth': 9, 'n_estimators': 180}\n"
     ]
    }
   ],
   "source": [
    "# Finding the best perameters\n",
    "print(grid_search.best_params_)"
   ]
  },
  {
   "cell_type": "markdown",
   "metadata": {},
   "source": [
    "Now that the model has the optimal hyperperameters we will fit the final tuned model and record the confusion matrix, accuracy, precision, recall, and f1 score to compare with Logistic Regression and RandomForest."
   ]
  },
  {
   "cell_type": "code",
   "execution_count": 32,
   "metadata": {},
   "outputs": [
    {
     "name": "stdout",
     "output_type": "stream",
     "text": [
      "F1 score for the XGBoost tuned model is:  0.7226787899982513\n",
      "Precision for the XGBoost tuned model is: 0.7572370831806523\n",
      "Recall for the XGBoost tuned model is: 0.6911371237458194\n",
      "Accuracy for the XGBoost tuned model is: 0.731243380639695\n"
     ]
    }
   ],
   "source": [
    "# Setting up tuned model with best hyperperameters\n",
    "model_xg1 = xgb.XGBClassifier(learning_rate = 0.1, \n",
    "                              max_depth = 9, \n",
    "                              n_estimators = 180)\n",
    "\n",
    "# Fitting the model\n",
    "model_xg1.fit(X_train, y_train)\n",
    "\n",
    "# Making predictions\n",
    "predictions_XG = model_xg.predict(X_test)\n",
    "\n",
    "# Printing results of tuned model\n",
    "print('F1 score for the XGBoost tuned model is: ',f1_score(y_test,predictions_XG))\n",
    "print('Precision for the XGBoost tuned model is:',precision_score(y_test, predictions_XG))\n",
    "print('Recall for the XGBoost tuned model is:',recall_score(y_test, predictions_XG))\n",
    "print('Accuracy for the XGBoost tuned model is:',accuracy_score(y_test, predictions_XG))"
   ]
  },
  {
   "cell_type": "code",
   "execution_count": 33,
   "metadata": {},
   "outputs": [
    {
     "data": {
      "text/plain": [
       "array([[35980, 10600],\n",
       "       [14776, 33064]], dtype=int64)"
      ]
     },
     "execution_count": 33,
     "metadata": {},
     "output_type": "execute_result"
    }
   ],
   "source": [
    "confusion_matrix(y_test, predictions_XG)"
   ]
  },
  {
   "cell_type": "markdown",
   "metadata": {},
   "source": [
    "# Final Analysis and Recommendations\n",
    "\n",
    "After looking over some of the best machine learning models offered for binary classification problems such as this one I can safely and confidently offer a few recommendations for airlines to follow.\n",
    "\n",
    "First, machine learning models can help airlines drive consumer confidence by accurately predicting which flights will be delayed or not allowing more time for preperation and hopefully decreased flight delay times. The best model for predicting flight delay is XGboost as depicted by the f1 scores below:"
   ]
  },
  {
   "cell_type": "code",
   "execution_count": 34,
   "metadata": {},
   "outputs": [
    {
     "name": "stdout",
     "output_type": "stream",
     "text": [
      "F1 score for the XGBoost tuned model is:  0.7226787899982513\n",
      "F1 score for the RandomForest tuned model is:  0.6633482175536197\n",
      "F1 score for the Logistic Regression tuned model is:  0.6544705415294155\n"
     ]
    }
   ],
   "source": [
    "print('F1 score for the XGBoost tuned model is: ',f1_score(y_test,predictions_XG))\n",
    "print('F1 score for the RandomForest tuned model is: ',f1_score(y_test,predictions_rf))\n",
    "print('F1 score for the Logistic Regression tuned model is: ',f1_score(y_test,predictions_lr))"
   ]
  },
  {
   "cell_type": "markdown",
   "metadata": {},
   "source": [
    "Second, I would like to introduce weather data such as temperature, wind, humidity, and precipitation to increase model performance by offering more real time delay inducing factors to the model."
   ]
  },
  {
   "cell_type": "markdown",
   "metadata": {},
   "source": [
    "Finally, I would implement a team to run this analyis. Due to my constraints with computing power I was only able to effectively run one year of data through the model but with all ten years of data being run through these models the f1 score would increase and flights could be better predicted."
   ]
  }
 ],
 "metadata": {
  "kernelspec": {
   "display_name": "Python 3",
   "language": "python",
   "name": "python3"
  },
  "language_info": {
   "codemirror_mode": {
    "name": "ipython",
    "version": 3
   },
   "file_extension": ".py",
   "mimetype": "text/x-python",
   "name": "python",
   "nbconvert_exporter": "python",
   "pygments_lexer": "ipython3",
   "version": "3.8.5"
  }
 },
 "nbformat": 4,
 "nbformat_minor": 5
}
