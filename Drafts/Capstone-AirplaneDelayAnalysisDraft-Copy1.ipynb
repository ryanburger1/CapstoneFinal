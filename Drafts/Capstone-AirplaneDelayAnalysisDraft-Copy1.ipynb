{
 "cells": [
  {
   "cell_type": "markdown",
   "metadata": {},
   "source": [
    "# Airline Delay Analysis"
   ]
  },
  {
   "cell_type": "markdown",
   "metadata": {},
   "source": [
    "### Analysis Introduction:\n",
    "\n",
    "For this analysis I wanted to tackle the challenge that is flight delays and see if they can be predicted using machine learning algorithms. In this analysis I performed data cleaning, preprocessing, and model evaluation to come up with a recommendation for airlines who could benefit from increased oversight on their flights.\n",
    "\n",
    "Models Evaluated include:\n",
    "* XGBoost\n",
    "* RandomForest\n",
    "* Logistic Regression \n",
    "\n",
    "Metrics Evaluated include but are not limited to:\n",
    "* Flight Year, Month, Day\n",
    "* Carrier \n",
    "* Origin/Destination\n",
    "* Departure Times\n",
    "* Taxi Times \n",
    "* Airtime and Distance Traveled \n",
    "\n",
    "These metrics were selected because they provide the best insight into flight delays and will be encoded properly to work with our selected models."
   ]
  },
  {
   "cell_type": "markdown",
   "metadata": {},
   "source": [
    "First, we will start our analysis by importing neccesary packages."
   ]
  },
  {
   "cell_type": "code",
   "execution_count": 3,
   "metadata": {},
   "outputs": [],
   "source": [
    "#Importing packages needed for analysis\n",
    "import pandas as pd \n",
    "import numpy as np\n",
    "import matplotlib.pyplot as plt\n",
    "import matplotlib.ticker as ticker\n",
    "from sklearn.preprocessing import OneHotEncoder\n",
    "import random\n",
    "from sklearn.linear_model import LogisticRegression\n",
    "from sklearn.model_selection import train_test_split\n",
    "from sklearn.preprocessing import StandardScaler\n",
    "from sklearn.metrics import f1_score\n",
    "import time\n",
    "from sklearn.model_selection import StratifiedKFold\n",
    "from sklearn.model_selection import GridSearchCV\n",
    "from sklearn.model_selection import KFold\n",
    "from sklearn.metrics import confusion_matrix\n",
    "from sklearn.metrics import precision_score\n",
    "from sklearn.metrics import accuracy_score\n",
    "from sklearn.metrics import recall_score\n",
    "from sklearn.ensemble import RandomForestClassifier\n",
    "from sklearn.model_selection import RandomizedSearchCV\n",
    "import xgboost as xgb"
   ]
  },
  {
   "cell_type": "markdown",
   "metadata": {},
   "source": [
    "Loading in 2019 data subset:"
   ]
  },
  {
   "cell_type": "code",
   "execution_count": 4,
   "metadata": {},
   "outputs": [],
   "source": [
    "#Reading in data \n",
    "df_2019 = pd.read_csv('2019.csv')"
   ]
  },
  {
   "cell_type": "code",
   "execution_count": 5,
   "metadata": {},
   "outputs": [
    {
     "data": {
      "text/plain": [
       "(7422037, 21)"
      ]
     },
     "execution_count": 5,
     "metadata": {},
     "output_type": "execute_result"
    }
   ],
   "source": [
    "#Checking to see how much flight data is in this year\n",
    "df_2019.shape"
   ]
  },
  {
   "cell_type": "markdown",
   "metadata": {},
   "source": [
    "We can see that with +7.4 million datapoints, if the entire dataset was loaded in (2010-2019) over +60 million flights would need to be analyzed and sorted. Due to lack of computing power I took a subset of the dataset for my analysis. "
   ]
  },
  {
   "cell_type": "code",
   "execution_count": 6,
   "metadata": {},
   "outputs": [],
   "source": [
    "#Setting counts variable to see which airports have the most flight volume\n",
    "counts = df_2019.groupby('ORIGIN')['ORIGIN'].count()\n",
    "\n",
    "#Sorting the top 10 airports by volume and assigning a variable to that list\n",
    "big_airports = counts.sort_values(ascending=False).head(10)\n",
    "airport_names = big_airports.index\n",
    "airports = airport_names.tolist()"
   ]
  },
  {
   "cell_type": "markdown",
   "metadata": {},
   "source": [
    "Due to the sheer volume of data, I sorted the top 10 airports and wanted to view flights whose origin and destination were in that list"
   ]
  },
  {
   "cell_type": "code",
   "execution_count": 7,
   "metadata": {},
   "outputs": [],
   "source": [
    "#Setting the dataframe to only contain flights by top 10 airport volume\n",
    "df_2019 = df_2019.loc[df_2019['ORIGIN'].isin(airports) & df_2019['DEST'].isin(airports)]"
   ]
  },
  {
   "cell_type": "code",
   "execution_count": 6,
   "metadata": {},
   "outputs": [],
   "source": [
    "#Setting Lists for easier manipulation later on\n",
    "# df_list = [df_2015, df_2016, df_2017, df_2018, df_2018, df_2019]\n",
    "df_list = [df_2019]\n",
    "# df_list_train = [df_2015, df_2016, df_2017, df_2018]"
   ]
  },
  {
   "cell_type": "markdown",
   "metadata": {},
   "source": [
    "# Exploratory Analysis: \n",
    "Please do not run through this code. The code below analyzes 2009 data to root out Null values and performes cleaning on just 2009 data. Please proceed to the next markdown if you would like to run through this project."
   ]
  },
  {
   "cell_type": "code",
   "execution_count": null,
   "metadata": {},
   "outputs": [],
   "source": [
    "df_2009.info()"
   ]
  },
  {
   "cell_type": "code",
   "execution_count": null,
   "metadata": {},
   "outputs": [],
   "source": [
    "df_2009['DEST'].unique()"
   ]
  },
  {
   "cell_type": "code",
   "execution_count": null,
   "metadata": {},
   "outputs": [],
   "source": [
    "US_Airports = [\"DCA\", \"EWR\", \"IAD\", \"ATL\", \"CLE\", \"ORD\", \"BWI\", \"GSO\", \"JAN\", \"IAH\", \"MSP\", \"JAX\", \"CRP\", \"PIT\", \"TYS\", \"ALB\", \"OKC\",\n",
    "\"MCI\", \"CHS\", \"BHM\", \"ABQ\", \"ORF\", \"RSW\", \"BUF\", \"IND\", \"COS\", \"MAF\", \"CLT\", \"DTW\", \"CVG\", \"ELP\", \"GRR\", \"DFW\", \"MKE\", \"CMH\",\n",
    "\"LGA\", \"RDU\", \"LIT\", \"MFE\", \"MHT\", \"OMA\", \"DAL\", \"LBB\", \"TUS\", \"MEM\", \"TUL\", \"LEX\", \"RIC\", \"MOB\", \"MSN\", \"ICT\", \"GSP\", \"BRO\",\n",
    "\"DAY\", \"BTR\", \"PHL\", \"PVD\", \"AVL\", \"BDL\", \"BTV\", \"MIA\", \"BOS\", \"BNA\", \"STL\", \"GPT\", \"HSV\", \"SHV\", \"SLC\", \"PNS\", \"PBI\", \"SAV\",\n",
    "\"TPA\", \"SDF\", \"ROC\", \"DSM\", \"XNA\", \"LRD\", \"BGR\", \"VPS\", \"ABE\", \"PHX\", \"AMA\", \"SYR\", \"CAE\", \"CRW\", \"AUS\", \"MSY\", \"ATW\", \"BFL\",\n",
    "\"BUR\", \"CID\", \"COD\", \"CPR\", \"CWA\", \"DEN\", \"DRO\", \"EGE\", \"FAT\", \"FAY\", \"FLG\", \"FSD\", \"FWA\", \"GCC\", \"GJT\", \"GRB\", \"HNL\", \"ILM\",\n",
    "\"ITO\", \"JFK\", \"KOA\", \"LAN\", \"LAS\", \"LAX\", \"LGB\", \"LIH\", \"MBS\", \"MDT\", \"MLI\", \"MRY\", \"MTJ\", \"OAK\", \"OGG\", \"ONT\", \"PSP\", \"PWM\",\n",
    "\"RAP\", \"RKS\", \"RNO\", \"ROA\", \"SAN\", \"SAT\", \"SBA\", \"SBN\", \"SBP\", \"SNA\", \"SPI\", \"TEX\", \"TVC\", \"YUM\", \"SRQ\", \"HDN\", \"SMF\", \"FNT\",\n",
    "\"DLH\", \"MDW\", \"HTS\", \"AZO\", \"FLL\", \"AVP\", \"BOI\", \"HLN\", \"BZN\", \"IDA\", \"FCA\", \"GEG\", \"GTF\", \"JAC\", \"MSO\", \"BIL\", \"ASE\", \"PDX\",\n",
    "\"ACV\", \"EUG\", \"GUC\", \"MFR\", \"PSC\", \"SEA\", \"SFO\", \"BTM\", \"RDM\", \"LWS\", \"SJC\", \"IYK\", \"SMX\", \"OXR\", \"RDD\", \"CEC\", \"SGU\", \"MOD\",\n",
    "\"OTH\", \"CLD\", \"LMT\", \"CIC\", \"IPL\", \"LNK\", \"BIS\", \"FAR\", \"CAK\", \"PIA\", \"SGF\", \"HPN\"]\n"
   ]
  },
  {
   "cell_type": "code",
   "execution_count": null,
   "metadata": {},
   "outputs": [],
   "source": [
    "counts = df_2015.groupby('ORIGIN')['ORIGIN'].count()\n",
    "top_airports = counts.sort_values(ascending=False).head(40)\n",
    "airport_names = top_airports.index\n",
    "airports = airport_names.tolist()"
   ]
  },
  {
   "cell_type": "code",
   "execution_count": null,
   "metadata": {},
   "outputs": [],
   "source": [
    "df_2015 = df_2015[df_2015['ORIGIN'].isin(airports) & df_2015['DEST'].isin(airports)]"
   ]
  },
  {
   "cell_type": "code",
   "execution_count": null,
   "metadata": {},
   "outputs": [],
   "source": [
    "df_2009.head()"
   ]
  },
  {
   "cell_type": "code",
   "execution_count": null,
   "metadata": {},
   "outputs": [],
   "source": [
    "df_2009.isnull().sum()"
   ]
  },
  {
   "cell_type": "code",
   "execution_count": null,
   "metadata": {},
   "outputs": [],
   "source": [
    "df_2009.drop(columns=['Unnamed: 27',\n",
    "                 'CRS_DEP_TIME',\n",
    "                 'CANCELLED',\n",
    "                 'CANCELLATION_CODE', \n",
    "                 'DIVERTED', \n",
    "                 'CRS_ELAPSED_TIME', \n",
    "                 'ACTUAL_ELAPSED_TIME',\n",
    "                 'CARRIER_DELAY',\n",
    "                 'WEATHER_DELAY',\n",
    "                 'NAS_DELAY',\n",
    "                 'SECURITY_DELAY', \n",
    "                 'CRS_ARR_TIME',\n",
    "                 'LATE_AIRCRAFT_DELAY'], inplace=True)"
   ]
  },
  {
   "cell_type": "code",
   "execution_count": null,
   "metadata": {},
   "outputs": [],
   "source": [
    "df_2009.isnull().sum()"
   ]
  },
  {
   "cell_type": "code",
   "execution_count": null,
   "metadata": {},
   "outputs": [],
   "source": [
    "correlations = df_2009.corr()['Delay'].sort_values(ascending=False)\n",
    "print(correlations)"
   ]
  },
  {
   "cell_type": "code",
   "execution_count": null,
   "metadata": {},
   "outputs": [],
   "source": [
    "df_2009[df_2009['ARR_TIME'].isnull()]"
   ]
  },
  {
   "cell_type": "code",
   "execution_count": null,
   "metadata": {},
   "outputs": [],
   "source": [
    "df_2009.shape"
   ]
  },
  {
   "cell_type": "code",
   "execution_count": null,
   "metadata": {},
   "outputs": [],
   "source": [
    "df_2009.dropna(subset=['DEP_TIME',\n",
    "                       'DEP_DELAY', \n",
    "                       'TAXI_OUT', \n",
    "                       'WHEELS_OFF', \n",
    "                       'WHEELS_ON', \n",
    "                       'TAXI_IN', \n",
    "                       'ARR_TIME', \n",
    "                       'ARR_DELAY', \n",
    "                       'AIR_TIME'], inplace=True)\n",
    "df_2009.shape"
   ]
  },
  {
   "cell_type": "code",
   "execution_count": null,
   "metadata": {},
   "outputs": [],
   "source": [
    "df_2009.info()"
   ]
  },
  {
   "cell_type": "markdown",
   "metadata": {},
   "source": [
    "**END of Exploratory Analysis**"
   ]
  },
  {
   "cell_type": "code",
   "execution_count": 7,
   "metadata": {},
   "outputs": [],
   "source": [
    "for df in df_list:\n",
    "    df['Delay'] = np.where((df['CARRIER_DELAY'] > 0) | \n",
    "                           (df['WEATHER_DELAY'] > 0) | \n",
    "                           (df['NAS_DELAY'] > 0) | \n",
    "                           (df['SECURITY_DELAY'] > 0) | \n",
    "                           (df['ARR_DELAY'] > 0) |\n",
    "                           (df['DEP_DELAY'] > 0) |\n",
    "                           (df['LATE_AIRCRAFT_DELAY'] > 0), 1, 0)"
   ]
  },
  {
   "cell_type": "code",
   "execution_count": 8,
   "metadata": {},
   "outputs": [],
   "source": [
    "# for df in df_list_train:\n",
    "#     df.drop(columns=['Unnamed: 27',\n",
    "#                  'CRS_DEP_TIME',\n",
    "#                  'CANCELLED',\n",
    "#                  'CANCELLATION_CODE', \n",
    "#                  'DIVERTED', \n",
    "#                  'CRS_ELAPSED_TIME', \n",
    "#                  'ACTUAL_ELAPSED_TIME',\n",
    "#                  'CARRIER_DELAY',\n",
    "#                  'WEATHER_DELAY',\n",
    "#                  'NAS_DELAY',\n",
    "#                  'SECURITY_DELAY', \n",
    "#                  'CRS_ARR_TIME',\n",
    "#                  'LATE_AIRCRAFT_DELAY'], inplace=True)\n",
    "#     df.dropna(subset=['DEP_TIME',\n",
    "#                        'DEP_DELAY', \n",
    "#                        'TAXI_OUT', \n",
    "#                        'WHEELS_OFF', \n",
    "#                        'WHEELS_ON', \n",
    "#                        'TAXI_IN', \n",
    "#                        'ARR_TIME', \n",
    "#                        'ARR_DELAY', \n",
    "#                        'AIR_TIME'], inplace=True)\n",
    "    \n",
    "df_2019.drop(columns=['Unnamed: 20', \n",
    "                 'CARRIER_DELAY',\n",
    "                 'WEATHER_DELAY',\n",
    "                 'NAS_DELAY',\n",
    "                 'SECURITY_DELAY',\n",
    "                 'ARR_DELAY',\n",
    "                 'DEP_DELAY',\n",
    "                 'LATE_AIRCRAFT_DELAY'], inplace=True)\n",
    "df_2019.dropna(subset=['DEP_TIME', \n",
    "                       'TAXI_OUT', \n",
    "                       'WHEELS_OFF', \n",
    "                       'WHEELS_ON', \n",
    "                       'TAXI_IN', \n",
    "                       'ARR_TIME', \n",
    "                       'AIR_TIME'], inplace=True)\n",
    "df_2019.rename(columns = {'OP_UNIQUE_CARRIER':'OP_CARRIER'},inplace=True)\n",
    "\n"
   ]
  },
  {
   "cell_type": "code",
   "execution_count": 9,
   "metadata": {},
   "outputs": [],
   "source": [
    "# df_model = pd.concat([df_2015, df_2016, df_2017, df_2018, df_2019])\n",
    "df_model = df_2019"
   ]
  },
  {
   "cell_type": "code",
   "execution_count": 10,
   "metadata": {},
   "outputs": [],
   "source": [
    "in_list = df_model['OP_CARRIER'].isin(['AA', 'B6', 'WN', 'DL', 'F9', 'AS', 'NK', 'UA', '9E', 'CO', 'FL', 'HA'])\n",
    "df_model = df_model[in_list]\n",
    "# in_list_1 = df_2019['OP_CARRIER'].isin(['AA', 'B6', 'WN', 'DL', 'F9', 'AS', 'NK', 'UA', '9E', 'CO', 'FL', 'HA'])\n",
    "# df_test = df_2019[in_list_1]"
   ]
  },
  {
   "cell_type": "code",
   "execution_count": 11,
   "metadata": {},
   "outputs": [
    {
     "name": "stdout",
     "output_type": "stream",
     "text": [
      "<class 'pandas.core.frame.DataFrame'>\n",
      "Int64Index: 431386 entries, 226 to 7421639\n",
      "Data columns (total 14 columns):\n",
      " #   Column             Non-Null Count   Dtype  \n",
      "---  ------             --------------   -----  \n",
      " 0   FL_DATE            431386 non-null  object \n",
      " 1   OP_CARRIER         431386 non-null  object \n",
      " 2   OP_CARRIER_FL_NUM  431386 non-null  int64  \n",
      " 3   ORIGIN             431386 non-null  object \n",
      " 4   DEST               431386 non-null  object \n",
      " 5   DEP_TIME           431386 non-null  float64\n",
      " 6   TAXI_OUT           431386 non-null  float64\n",
      " 7   WHEELS_OFF         431386 non-null  float64\n",
      " 8   WHEELS_ON          431386 non-null  float64\n",
      " 9   TAXI_IN            431386 non-null  float64\n",
      " 10  ARR_TIME           431386 non-null  float64\n",
      " 11  AIR_TIME           431386 non-null  float64\n",
      " 12  DISTANCE           431386 non-null  float64\n",
      " 13  Delay              431386 non-null  int32  \n",
      "dtypes: float64(8), int32(1), int64(1), object(4)\n",
      "memory usage: 47.7+ MB\n"
     ]
    }
   ],
   "source": [
    "df_model.info()"
   ]
  },
  {
   "cell_type": "markdown",
   "metadata": {},
   "source": [
    "Graph for slides "
   ]
  },
  {
   "cell_type": "code",
   "execution_count": 12,
   "metadata": {},
   "outputs": [
    {
     "data": {
      "image/png": "[encoded data removed]",
      "text/plain": [
       "<Figure size 432x288 with 1 Axes>"
      ]
     },
     "metadata": {
      "needs_background": "light"
     },
     "output_type": "display_data"
    }
   ],
   "source": [
    "delay_counts = df_model.groupby('OP_CARRIER')['Delay'].size()\n",
    "\n",
    "delay_counts = delay_counts.sort_values(ascending=False)\n",
    "\n",
    "x_values = delay_counts.index\n",
    "y_values = delay_counts.values \n",
    "\n",
    "fig, ax = plt.subplots()\n",
    "\n",
    "ax.bar(x_values, y_values, color='#86BC25')\n",
    "\n",
    "ax.set_title('Delay Counts by Airline in 2019')\n",
    "ax.set_xlabel('Airline')\n",
    "ax.set_ylabel('Delay Count')\n",
    "\n",
    "plt.show()"
   ]
  },
  {
   "cell_type": "code",
   "execution_count": 13,
   "metadata": {},
   "outputs": [
    {
     "data": {
      "image/png": "[encoded data removed]",
      "text/plain": [
       "<Figure size 432x288 with 1 Axes>"
      ]
     },
     "metadata": {
      "needs_background": "light"
     },
     "output_type": "display_data"
    }
   ],
   "source": [
    "airport_counts = df_model.groupby('ORIGIN')['ORIGIN'].count()\n",
    "big_airports = counts.sort_values(ascending=False).head(10)\n",
    "\n",
    "x_values= big_airports.index\n",
    "y_values= big_airports.values\n",
    "\n",
    "fig, ax = plt.subplots()\n",
    "\n",
    "ax.bar(x_values, y_values, color='#86BC25')\n",
    "\n",
    "ax.set_title('Airport Volume in 2019')\n",
    "ax.set_xlabel('Airport')\n",
    "ax.set_ylabel('Total Flights')\n",
    "\n",
    "plt.show()"
   ]
  },
  {
   "cell_type": "code",
   "execution_count": 14,
   "metadata": {},
   "outputs": [
    {
     "data": {
      "image/png": "[encoded data removed]",
      "text/plain": [
       "<Figure size 432x288 with 1 Axes>"
      ]
     },
     "metadata": {
      "needs_background": "light"
     },
     "output_type": "display_data"
    }
   ],
   "source": [
    "delay_binary = df_model['Delay'].value_counts()\n",
    "\n",
    "# Set x_values to a list containing 0 and 1\n",
    "x_values = [0, 1]\n",
    "\n",
    "# Set y_values to the values in the delay_binary Series corresponding to 0 and 1\n",
    "y_values = [delay_binary[0], delay_binary[1]]\n",
    "\n",
    "fig, ax = plt.subplots()\n",
    "\n",
    "ax.bar(x_values, y_values, color='#86BC25')\n",
    "\n",
    "ax.set_title('Total Delayed Flights 2015-2019')\n",
    "ax.set_xlabel('Status')\n",
    "ax.set_ylabel('Total Flights (in millions)')\n",
    "\n",
    "plt.show()"
   ]
  },
  {
   "cell_type": "code",
   "execution_count": 15,
   "metadata": {},
   "outputs": [
    {
     "name": "stderr",
     "output_type": "stream",
     "text": [
      "<ipython-input-15-faaf2dcd9a75>:1: SettingWithCopyWarning: \n",
      "A value is trying to be set on a copy of a slice from a DataFrame.\n",
      "Try using .loc[row_indexer,col_indexer] = value instead\n",
      "\n",
      "See the caveats in the documentation: https://pandas.pydata.org/pandas-docs/stable/user_guide/indexing.html#returning-a-view-versus-a-copy\n",
      "  df_model['date'] = pd.to_datetime(df_model['FL_DATE'])\n",
      "<ipython-input-15-faaf2dcd9a75>:4: SettingWithCopyWarning: \n",
      "A value is trying to be set on a copy of a slice from a DataFrame.\n",
      "Try using .loc[row_indexer,col_indexer] = value instead\n",
      "\n",
      "See the caveats in the documentation: https://pandas.pydata.org/pandas-docs/stable/user_guide/indexing.html#returning-a-view-versus-a-copy\n",
      "  df_model['year'] = df_model['date'].dt.year\n",
      "<ipython-input-15-faaf2dcd9a75>:5: SettingWithCopyWarning: \n",
      "A value is trying to be set on a copy of a slice from a DataFrame.\n",
      "Try using .loc[row_indexer,col_indexer] = value instead\n",
      "\n",
      "See the caveats in the documentation: https://pandas.pydata.org/pandas-docs/stable/user_guide/indexing.html#returning-a-view-versus-a-copy\n",
      "  df_model['month'] = df_model['date'].dt.month\n",
      "<ipython-input-15-faaf2dcd9a75>:6: SettingWithCopyWarning: \n",
      "A value is trying to be set on a copy of a slice from a DataFrame.\n",
      "Try using .loc[row_indexer,col_indexer] = value instead\n",
      "\n",
      "See the caveats in the documentation: https://pandas.pydata.org/pandas-docs/stable/user_guide/indexing.html#returning-a-view-versus-a-copy\n",
      "  df_model['day_of_week'] = df_model['date'].dt.dayofweek\n"
     ]
    }
   ],
   "source": [
    "df_model['date'] = pd.to_datetime(df_model['FL_DATE'])\n",
    "\n",
    "# Extract the year, month, and day of the week from the date field\n",
    "df_model['year'] = df_model['date'].dt.year\n",
    "df_model['month'] = df_model['date'].dt.month\n",
    "df_model['day_of_week'] = df_model['date'].dt.dayofweek\n",
    "\n",
    "# Drop the original date field\n",
    "df_model = df_model.drop(columns=['date', 'FL_DATE'])\n",
    "df_model= df_model[['year', 'month', 'day_of_week', 'OP_CARRIER', 'OP_CARRIER_FL_NUM', 'ORIGIN', 'DEST',\n",
    "                               'DEP_TIME', 'TAXI_OUT', 'WHEELS_OFF', 'WHEELS_ON', 'TAXI_IN', 'ARR_TIME',\n",
    "                               'AIR_TIME', 'DISTANCE', 'Delay']]\n",
    "\n",
    "# df_test['date'] = pd.to_datetime(df_test['FL_DATE'])\n",
    "\n",
    "# # Extract the year, month, and day of the week from the date field\n",
    "# df_test['year'] = df_test['date'].dt.year\n",
    "# df_test['month'] = df_test['date'].dt.month\n",
    "# df_test['day_of_week'] = df_test['date'].dt.dayofweek\n",
    "\n",
    "# # Drop the original date field\n",
    "# df_test = df_test.drop(columns=['date', 'FL_DATE'])\n",
    "# df_test = df_test[['year', 'month', 'day_of_week', 'OP_CARRIER', 'OP_CARRIER_FL_NUM', 'ORIGIN', 'DEST',\n",
    "#                                'DEP_TIME', 'DEP_DELAY', 'TAXI_OUT', 'WHEELS_OFF', 'WHEELS_ON', 'TAXI_IN', 'ARR_TIME',\n",
    "#                                'ARR_DELAY', 'AIR_TIME', 'DISTANCE', 'Delay']]"
   ]
  },
  {
   "cell_type": "code",
   "execution_count": 16,
   "metadata": {},
   "outputs": [],
   "source": [
    "df_model.dropna(subset=['year', 'month', 'day_of_week'], inplace=True)\n",
    "# df_test.dropna(subset=['year', 'month', 'day_of_week'], inplace=True)"
   ]
  },
  {
   "cell_type": "code",
   "execution_count": 17,
   "metadata": {},
   "outputs": [
    {
     "name": "stdout",
     "output_type": "stream",
     "text": [
      "<class 'pandas.core.frame.DataFrame'>\n",
      "Int64Index: 431386 entries, 226 to 7421639\n",
      "Data columns (total 16 columns):\n",
      " #   Column             Non-Null Count   Dtype  \n",
      "---  ------             --------------   -----  \n",
      " 0   year               431386 non-null  int64  \n",
      " 1   month              431386 non-null  int64  \n",
      " 2   day_of_week        431386 non-null  int64  \n",
      " 3   OP_CARRIER         431386 non-null  object \n",
      " 4   OP_CARRIER_FL_NUM  431386 non-null  int64  \n",
      " 5   ORIGIN             431386 non-null  object \n",
      " 6   DEST               431386 non-null  object \n",
      " 7   DEP_TIME           431386 non-null  float64\n",
      " 8   TAXI_OUT           431386 non-null  float64\n",
      " 9   WHEELS_OFF         431386 non-null  float64\n",
      " 10  WHEELS_ON          431386 non-null  float64\n",
      " 11  TAXI_IN            431386 non-null  float64\n",
      " 12  ARR_TIME           431386 non-null  float64\n",
      " 13  AIR_TIME           431386 non-null  float64\n",
      " 14  DISTANCE           431386 non-null  float64\n",
      " 15  Delay              431386 non-null  int32  \n",
      "dtypes: float64(8), int32(1), int64(4), object(3)\n",
      "memory usage: 54.3+ MB\n"
     ]
    }
   ],
   "source": [
    "df_model.info()"
   ]
  },
  {
   "cell_type": "code",
   "execution_count": null,
   "metadata": {},
   "outputs": [],
   "source": [
    "df_model "
   ]
  },
  {
   "cell_type": "code",
   "execution_count": 18,
   "metadata": {},
   "outputs": [],
   "source": [
    "df_model = pd.get_dummies(df_model, columns=['OP_CARRIER', 'ORIGIN', 'DEST'])\n",
    "# df_test = pd.get_dummies(df_test, columns=['OP_CARRIER', 'ORIGIN', 'DEST'])"
   ]
  },
  {
   "cell_type": "code",
   "execution_count": 19,
   "metadata": {},
   "outputs": [
    {
     "name": "stdout",
     "output_type": "stream",
     "text": [
      "<class 'pandas.core.frame.DataFrame'>\n",
      "Int64Index: 431386 entries, 226 to 7421639\n",
      "Data columns (total 41 columns):\n",
      " #   Column             Non-Null Count   Dtype  \n",
      "---  ------             --------------   -----  \n",
      " 0   year               431386 non-null  int64  \n",
      " 1   month              431386 non-null  int64  \n",
      " 2   day_of_week        431386 non-null  int64  \n",
      " 3   OP_CARRIER_FL_NUM  431386 non-null  int64  \n",
      " 4   DEP_TIME           431386 non-null  float64\n",
      " 5   TAXI_OUT           431386 non-null  float64\n",
      " 6   WHEELS_OFF         431386 non-null  float64\n",
      " 7   WHEELS_ON          431386 non-null  float64\n",
      " 8   TAXI_IN            431386 non-null  float64\n",
      " 9   ARR_TIME           431386 non-null  float64\n",
      " 10  AIR_TIME           431386 non-null  float64\n",
      " 11  DISTANCE           431386 non-null  float64\n",
      " 12  Delay              431386 non-null  int32  \n",
      " 13  OP_CARRIER_9E      431386 non-null  uint8  \n",
      " 14  OP_CARRIER_AA      431386 non-null  uint8  \n",
      " 15  OP_CARRIER_AS      431386 non-null  uint8  \n",
      " 16  OP_CARRIER_DL      431386 non-null  uint8  \n",
      " 17  OP_CARRIER_F9      431386 non-null  uint8  \n",
      " 18  OP_CARRIER_NK      431386 non-null  uint8  \n",
      " 19  OP_CARRIER_UA      431386 non-null  uint8  \n",
      " 20  OP_CARRIER_WN      431386 non-null  uint8  \n",
      " 21  ORIGIN_ATL         431386 non-null  uint8  \n",
      " 22  ORIGIN_CLT         431386 non-null  uint8  \n",
      " 23  ORIGIN_DEN         431386 non-null  uint8  \n",
      " 24  ORIGIN_DFW         431386 non-null  uint8  \n",
      " 25  ORIGIN_IAH         431386 non-null  uint8  \n",
      " 26  ORIGIN_LAX         431386 non-null  uint8  \n",
      " 27  ORIGIN_LGA         431386 non-null  uint8  \n",
      " 28  ORIGIN_ORD         431386 non-null  uint8  \n",
      " 29  ORIGIN_PHX         431386 non-null  uint8  \n",
      " 30  ORIGIN_SFO         431386 non-null  uint8  \n",
      " 31  DEST_ATL           431386 non-null  uint8  \n",
      " 32  DEST_CLT           431386 non-null  uint8  \n",
      " 33  DEST_DEN           431386 non-null  uint8  \n",
      " 34  DEST_DFW           431386 non-null  uint8  \n",
      " 35  DEST_IAH           431386 non-null  uint8  \n",
      " 36  DEST_LAX           431386 non-null  uint8  \n",
      " 37  DEST_LGA           431386 non-null  uint8  \n",
      " 38  DEST_ORD           431386 non-null  uint8  \n",
      " 39  DEST_PHX           431386 non-null  uint8  \n",
      " 40  DEST_SFO           431386 non-null  uint8  \n",
      "dtypes: float64(8), int32(1), int64(4), uint8(28)\n",
      "memory usage: 56.0 MB\n"
     ]
    }
   ],
   "source": [
    "df_model.info()"
   ]
  },
  {
   "cell_type": "markdown",
   "metadata": {},
   "source": [
    "# Modeling"
   ]
  },
  {
   "cell_type": "markdown",
   "metadata": {},
   "source": [
    "Baseline Model (logistic regression)"
   ]
  },
  {
   "cell_type": "code",
   "execution_count": 20,
   "metadata": {},
   "outputs": [
    {
     "data": {
      "text/plain": [
       "(431386, 41)"
      ]
     },
     "execution_count": 20,
     "metadata": {},
     "output_type": "execute_result"
    }
   ],
   "source": [
    "df_model.shape"
   ]
  },
  {
   "cell_type": "code",
   "execution_count": 21,
   "metadata": {},
   "outputs": [],
   "source": [
    "X = df_model.drop('Delay', axis=1)\n",
    "y = df_model['Delay']\n",
    "\n",
    "X_train, X_test, y_train, y_test = train_test_split(X, y, test_size=0.2, random_state=12)"
   ]
  },
  {
   "cell_type": "code",
   "execution_count": 22,
   "metadata": {},
   "outputs": [
    {
     "data": {
      "text/plain": [
       "1    0.514625\n",
       "0    0.485375\n",
       "Name: Delay, dtype: float64"
      ]
     },
     "execution_count": 22,
     "metadata": {},
     "output_type": "execute_result"
    }
   ],
   "source": [
    "y.value_counts(normalize=True)"
   ]
  },
  {
   "cell_type": "code",
   "execution_count": 23,
   "metadata": {},
   "outputs": [],
   "source": [
    "scale = StandardScaler()\n",
    "X_train = scale.fit_transform(X_train)\n",
    "X_test = scale.fit_transform(X_test)"
   ]
  },
  {
   "cell_type": "code",
   "execution_count": 31,
   "metadata": {},
   "outputs": [
    {
     "name": "stdout",
     "output_type": "stream",
     "text": [
      "Training time: 2.0864882469177246 seconds\n",
      "Prediction time: 0.014657258987426758 seconds\n"
     ]
    }
   ],
   "source": [
    "lr_basemodel = LogisticRegression(penalty = 'l2', C=1, class_weight='auto')\n",
    "start_time = time.time()\n",
    "lr_basemodel.fit(X_train, y_train)\n",
    "end_time = time.time()\n",
    "\n",
    "# Calculate the training time\n",
    "training_time = end_time - start_time\n",
    "\n",
    "# Make predictions with the model\n",
    "start_time = time.time()\n",
    "predictions = lr_basemodel.predict(X_test)\n",
    "end_time = time.time()\n",
    "\n",
    "# Calculate the prediction time\n",
    "prediction_time = end_time - start_time\n",
    "\n",
    "print(\"Training time: {} seconds\".format(training_time))\n",
    "print(\"Prediction time: {} seconds\".format(prediction_time))\n"
   ]
  },
  {
   "cell_type": "code",
   "execution_count": 32,
   "metadata": {},
   "outputs": [
    {
     "name": "stdout",
     "output_type": "stream",
     "text": [
      "F1 score for the base model is:  0.6624121793323904\n"
     ]
    }
   ],
   "source": [
    "print('F1 score for the base model is: ',f1_score(y_test,predictions))"
   ]
  },
  {
   "cell_type": "markdown",
   "metadata": {},
   "source": [
    "Tuning the basemodel"
   ]
  },
  {
   "cell_type": "code",
   "execution_count": 35,
   "metadata": {},
   "outputs": [
    {
     "data": {
      "text/plain": [
       "GridSearchCV(cv=KFold(n_splits=5, random_state=None, shuffle=True),\n",
       "             estimator=LogisticRegression(max_iter=500),\n",
       "             param_grid={'C': [0.001, 0.01, 0.1, 1], 'penalty': ['l1', 'l2'],\n",
       "                         'solver': ['liblinear']},\n",
       "             return_train_score=True, scoring='f1')"
      ]
     },
     "execution_count": 35,
     "metadata": {},
     "output_type": "execute_result"
    }
   ],
   "source": [
    "lr = LogisticRegression(max_iter = 500)\n",
    "weights = np.linspace(0,0.99,100)\n",
    "param = {'C': [0.001, 0.01, 0.1, 1], 'penalty': ['l1','l2'], 'solver':['liblinear']}\n",
    "folds = KFold(n_splits = 5, shuffle=True)\n",
    "model = GridSearchCV(estimator= lr, param_grid=param, scoring=\"f1\", cv=folds, return_train_score=True)\n",
    "model.fit(X_train, y_train)"
   ]
  },
  {
   "cell_type": "code",
   "execution_count": 36,
   "metadata": {},
   "outputs": [
    {
     "name": "stdout",
     "output_type": "stream",
     "text": [
      "{'C': 0.1, 'penalty': 'l1', 'solver': 'liblinear'}\n"
     ]
    }
   ],
   "source": [
    "print(model.best_params_)"
   ]
  },
  {
   "cell_type": "code",
   "execution_count": 37,
   "metadata": {},
   "outputs": [],
   "source": [
    "y_pred_model= model.predict(X_test)"
   ]
  },
  {
   "cell_type": "code",
   "execution_count": 38,
   "metadata": {},
   "outputs": [
    {
     "name": "stdout",
     "output_type": "stream",
     "text": [
      "F1 score for the base model is:  0.6622664290231701\n"
     ]
    }
   ],
   "source": [
    "print('F1 score for the base model is: ',f1_score(y_test,y_pred_model))"
   ]
  },
  {
   "cell_type": "code",
   "execution_count": 30,
   "metadata": {},
   "outputs": [
    {
     "data": {
      "text/plain": [
       "array([[28116, 13806],\n",
       "       [15552, 28804]], dtype=int64)"
      ]
     },
     "execution_count": 30,
     "metadata": {},
     "output_type": "execute_result"
    }
   ],
   "source": [
    "confusion_matrix(y_test, y_pred_model)"
   ]
  },
  {
   "cell_type": "code",
   "execution_count": null,
   "metadata": {},
   "outputs": [],
   "source": [
    "lr = LogisticRegression(max_iter = 1000, solver='liblinear')\n",
    "lr.fit(X_train, y_train)"
   ]
  },
  {
   "cell_type": "code",
   "execution_count": null,
   "metadata": {},
   "outputs": [],
   "source": [
    "y_pred_model= lr.predict(X_test)"
   ]
  },
  {
   "cell_type": "code",
   "execution_count": null,
   "metadata": {},
   "outputs": [],
   "source": [
    "print('F1 score for the base model is: ',f1_score(y_test,y_pred_model))"
   ]
  },
  {
   "cell_type": "code",
   "execution_count": null,
   "metadata": {},
   "outputs": [],
   "source": [
    "print(model.best_params_)"
   ]
  },
  {
   "cell_type": "code",
   "execution_count": null,
   "metadata": {},
   "outputs": [],
   "source": [
    "# X_train, X_test, y_train, y_test = train_test_split(X, y, test_size=0.2, random_state=12)\n",
    "lr_model = LogisticRegression(penalty = 'l2', C=1, class_weight={0:0.8, 1:0.2})\n",
    "lr_model.fit(X_train, y_train)"
   ]
  },
  {
   "cell_type": "code",
   "execution_count": null,
   "metadata": {},
   "outputs": [],
   "source": [
    "y_pred_model = lr_model.predict(X_test)"
   ]
  },
  {
   "cell_type": "code",
   "execution_count": null,
   "metadata": {},
   "outputs": [],
   "source": [
    "print('F1 score for the base model is: ',f1_score(y_test,y_pred_model))"
   ]
  },
  {
   "cell_type": "code",
   "execution_count": null,
   "metadata": {},
   "outputs": [],
   "source": [
    "print(model.best_params_)"
   ]
  },
  {
   "cell_type": "code",
   "execution_count": null,
   "metadata": {},
   "outputs": [],
   "source": [
    "confusion_matrix(y_test, y_pred_model)"
   ]
  },
  {
   "cell_type": "code",
   "execution_count": null,
   "metadata": {},
   "outputs": [],
   "source": [
    "precision = precision_score(y_test, y_pred_model)\n",
    "print(precision)"
   ]
  },
  {
   "cell_type": "code",
   "execution_count": null,
   "metadata": {},
   "outputs": [],
   "source": [
    "recall = recall_score(y_test, y_pred_model)\n",
    "print(recall)"
   ]
  },
  {
   "cell_type": "code",
   "execution_count": null,
   "metadata": {},
   "outputs": [],
   "source": [
    "accuracy = accuracy_score(y_test, y_pred_model)\n",
    "print(accuracy)"
   ]
  },
  {
   "cell_type": "code",
   "execution_count": null,
   "metadata": {},
   "outputs": [],
   "source": [
    "print('F1 score for the base model is: ',f1_score(y_test,y_pred_model))"
   ]
  },
  {
   "cell_type": "code",
   "execution_count": null,
   "metadata": {},
   "outputs": [],
   "source": [
    "confusion_matrix(y_test, y_pred_basemodel)"
   ]
  },
  {
   "cell_type": "code",
   "execution_count": null,
   "metadata": {},
   "outputs": [],
   "source": [
    "precision = precision_score(y_test, y_pred_basemodel)\n",
    "print(precision)"
   ]
  },
  {
   "cell_type": "code",
   "execution_count": null,
   "metadata": {},
   "outputs": [],
   "source": [
    "recall = recall_score(y_test, y_pred_basemodel)\n",
    "print(recall)"
   ]
  },
  {
   "cell_type": "markdown",
   "metadata": {},
   "source": [
    "Random Forest Starts Here:"
   ]
  },
  {
   "cell_type": "code",
   "execution_count": 39,
   "metadata": {},
   "outputs": [],
   "source": [
    "X_train, X_test, y_train, y_test = train_test_split(X, y, test_size=0.2, random_state=12)"
   ]
  },
  {
   "cell_type": "code",
   "execution_count": 40,
   "metadata": {},
   "outputs": [
    {
     "name": "stdout",
     "output_type": "stream",
     "text": [
      "Training time: 39.36286497116089 seconds\n",
      "Prediction time: 1.0789365768432617 seconds\n"
     ]
    }
   ],
   "source": [
    "rf_basemodel = RandomForestClassifier(class_weight={0:0.48, 1:0.52}, max_depth=5, random_state=12)\n",
    "\n",
    "start_time = time.time()\n",
    "rf_basemodel.fit(X_train, y_train)\n",
    "end_time = time.time()\n",
    "\n",
    "# Calculate the training time\n",
    "training_time = end_time - start_time\n",
    "\n",
    "# Make predictions with the model\n",
    "start_time = time.time()\n",
    "predictions = rf_basemodel.predict(X_test)\n",
    "end_time = time.time()\n",
    "\n",
    "# Calculate the prediction time\n",
    "prediction_time = end_time - start_time\n",
    "\n",
    "print(\"Training time: {} seconds\".format(training_time))\n",
    "print(\"Prediction time: {} seconds\".format(prediction_time))\n"
   ]
  },
  {
   "cell_type": "code",
   "execution_count": 41,
   "metadata": {},
   "outputs": [
    {
     "name": "stdout",
     "output_type": "stream",
     "text": [
      "F1 score for the RandomForest base model is:  0.6795116751473221\n"
     ]
    }
   ],
   "source": [
    "# y_rf_pred_basemodel = rf_basemodel.predict(X_test)\n",
    "print('F1 score for the RandomForest base model is: ',f1_score(y_test,predictions))"
   ]
  },
  {
   "cell_type": "code",
   "execution_count": null,
   "metadata": {},
   "outputs": [],
   "source": [
    "precision = precision_score(y_test, predictions)\n",
    "print(precision)"
   ]
  },
  {
   "cell_type": "code",
   "execution_count": null,
   "metadata": {},
   "outputs": [],
   "source": [
    "recall = recall_score(y_test, predictions)\n",
    "print(recall)"
   ]
  },
  {
   "cell_type": "code",
   "execution_count": null,
   "metadata": {},
   "outputs": [],
   "source": [
    "accuracy = accuracy_score(y_test, predictions)\n",
    "print(accuracy)"
   ]
  },
  {
   "cell_type": "code",
   "execution_count": 43,
   "metadata": {},
   "outputs": [
    {
     "data": {
      "text/plain": [
       "GridSearchCV(cv=5, estimator=RandomForestClassifier(),\n",
       "             param_grid={'criterion': ['gini', 'entropy'],\n",
       "                         'max_depth': [4, 5, 6, 7, 8],\n",
       "                         'max_features': ['auto', 'sqrt', 'log2'],\n",
       "                         'n_estimators': [200, 500]})"
      ]
     },
     "execution_count": 43,
     "metadata": {},
     "output_type": "execute_result"
    }
   ],
   "source": [
    "rf_basemodel = RandomForestClassifier()\n",
    "param_grid = { \n",
    "    'n_estimators': [200, 500],\n",
    "    'max_features': ['auto', 'sqrt', 'log2'],\n",
    "    'max_depth' : [4,5,6,7,8],\n",
    "    'criterion' :['gini', 'entropy']\n",
    "}\n",
    "CV_rfc = GridSearchCV(estimator=rf_basemodel, param_grid=param_grid, cv= 5)\n",
    "CV_rfc.fit(X_train, y_train)\n"
   ]
  },
  {
   "cell_type": "code",
   "execution_count": 44,
   "metadata": {},
   "outputs": [
    {
     "name": "stdout",
     "output_type": "stream",
     "text": [
      "{'criterion': 'gini', 'max_depth': 8, 'max_features': 'auto', 'n_estimators': 200}\n"
     ]
    }
   ],
   "source": [
    "print(CV_rfc.best_params_)"
   ]
  },
  {
   "cell_type": "code",
   "execution_count": 47,
   "metadata": {},
   "outputs": [
    {
     "name": "stdout",
     "output_type": "stream",
     "text": [
      "F1 score for the RandomForest base model is:  0.6776334712480917\n"
     ]
    }
   ],
   "source": [
    "rf_tuned = RandomForestClassifier(criterion='gini', max_depth=8, max_features='auto', n_estimators= 200, random_state=12)\n",
    "\n",
    "start_time = time.time()\n",
    "rf_tuned.fit(X_train, y_train)\n",
    "end_time = time.time()\n",
    "\n",
    "# Calculate the training time\n",
    "training_time = end_time - start_time\n",
    "\n",
    "# Make predictions with the model\n",
    "start_time = time.time()\n",
    "predictions = rf_tuned.predict(X_test)\n",
    "end_time = time.time()\n",
    "\n",
    "# Calculate the prediction time\n",
    "prediction_time = end_time - start_time\n",
    "print('F1 score for the RandomForest base model is: ',f1_score(y_test,prediction))"
   ]
  },
  {
   "cell_type": "code",
   "execution_count": 48,
   "metadata": {},
   "outputs": [
    {
     "data": {
      "text/plain": [
       "array([[26592, 15330],\n",
       "       [13923, 30433]], dtype=int64)"
      ]
     },
     "execution_count": 48,
     "metadata": {},
     "output_type": "execute_result"
    }
   ],
   "source": [
    "confusion_matrix(y_test, predictions)"
   ]
  },
  {
   "cell_type": "markdown",
   "metadata": {},
   "source": [
    "XGBoost "
   ]
  },
  {
   "cell_type": "code",
   "execution_count": 49,
   "metadata": {},
   "outputs": [],
   "source": [
    "import xgboost as xgb\n",
    "X_train, X_test, y_train, y_test = train_test_split(X, y, test_size=0.2, random_state=12)\n",
    "\n",
    "model_xg = xgb.XGBClassifier()\n",
    "model_xg.fit(X_train, y_train)\n",
    "predictions = model_xg.predict(X_test)"
   ]
  },
  {
   "cell_type": "code",
   "execution_count": 50,
   "metadata": {},
   "outputs": [
    {
     "name": "stdout",
     "output_type": "stream",
     "text": [
      "F1 score for the RandomForest base model is:  0.7240380443068407\n"
     ]
    }
   ],
   "source": [
    "print('F1 score for the XGBoost base model is: ',f1_score(y_test,predictions))"
   ]
  },
  {
   "cell_type": "code",
   "execution_count": 53,
   "metadata": {},
   "outputs": [
    {
     "name": "stdout",
     "output_type": "stream",
     "text": [
      "Fitting 5 folds for each of 96 candidates, totalling 480 fits\n"
     ]
    },
    {
     "name": "stderr",
     "output_type": "stream",
     "text": [
      "[Parallel(n_jobs=-1)]: Using backend LokyBackend with 8 concurrent workers.\n",
      "[Parallel(n_jobs=-1)]: Done  34 tasks      | elapsed:  7.6min\n",
      "[Parallel(n_jobs=-1)]: Done 184 tasks      | elapsed: 70.3min\n",
      "[Parallel(n_jobs=-1)]: Done 434 tasks      | elapsed: 170.4min\n",
      "[Parallel(n_jobs=-1)]: Done 480 out of 480 | elapsed: 197.4min finished\n"
     ]
    },
    {
     "data": {
      "text/plain": [
       "GridSearchCV(cv=5,\n",
       "             estimator=XGBClassifier(base_score=None, booster=None,\n",
       "                                     colsample_bylevel=None,\n",
       "                                     colsample_bynode=None,\n",
       "                                     colsample_bytree=None, gamma=None,\n",
       "                                     gpu_id=None, importance_type='gain',\n",
       "                                     interaction_constraints=None,\n",
       "                                     learning_rate=None, max_delta_step=None,\n",
       "                                     max_depth=None, min_child_weight=None,\n",
       "                                     missing=nan, monotone_constraints=None,\n",
       "                                     n_estimators=100, n_jobs=None, nthread=4,\n",
       "                                     num_parallel_tree=None, random_state=None,\n",
       "                                     reg_alpha=None, reg_lambda=None,\n",
       "                                     scale_pos_weight=None, seed=42,\n",
       "                                     subsample=None, tree_method=None,\n",
       "                                     validate_parameters=None, verbosity=None),\n",
       "             n_jobs=-1,\n",
       "             param_grid={'learning_rate': [0.1, 0.01, 0.05],\n",
       "                         'max_depth': range(2, 10),\n",
       "                         'n_estimators': range(60, 220, 40)},\n",
       "             scoring='roc_auc', verbose=True)"
      ]
     },
     "execution_count": 53,
     "metadata": {},
     "output_type": "execute_result"
    }
   ],
   "source": [
    "X_train, X_test, y_train, y_test = train_test_split(X, y, test_size=0.2, random_state=12)\n",
    "\n",
    "estimator = xgb.XGBClassifier(\n",
    "    objective= 'binary:logistic',\n",
    "    nthread=4,\n",
    "    seed=42\n",
    ")\n",
    "parameters = {\n",
    "    'max_depth': range (2, 10, 1),\n",
    "    'n_estimators': range(60, 220, 40),\n",
    "    'learning_rate': [0.1, 0.01, 0.05]\n",
    "}\n",
    "grid_search = GridSearchCV(\n",
    "    estimator=estimator,\n",
    "    param_grid=parameters,\n",
    "    scoring = 'roc_auc',\n",
    "    n_jobs = -1,\n",
    "    cv = 5,\n",
    "    verbose=True\n",
    ")\n",
    "\n",
    "grid_search.fit(X_train, y_train)"
   ]
  },
  {
   "cell_type": "code",
   "execution_count": 54,
   "metadata": {},
   "outputs": [
    {
     "name": "stdout",
     "output_type": "stream",
     "text": [
      "{'learning_rate': 0.1, 'max_depth': 9, 'n_estimators': 180}\n"
     ]
    }
   ],
   "source": [
    "print(grid_search.best_params_)"
   ]
  },
  {
   "cell_type": "code",
   "execution_count": 56,
   "metadata": {},
   "outputs": [
    {
     "name": "stdout",
     "output_type": "stream",
     "text": [
      "F1 score for the XGBoost tuned model is:  0.7240380443068407\n"
     ]
    }
   ],
   "source": [
    "X_train, X_test, y_train, y_test = train_test_split(X, y, test_size=0.2, random_state=12)\n",
    "model_xg1 = xgb.XGBClassifier(learning_rate = 0.1, max_depth = 9, n_estimators = 180)\n",
    "model_xg1.fit(X_train, y_train)\n",
    "xg_predictions_tuned = model_xg.predict(X_test)\n",
    "print('F1 score for the XGBoost tuned model is: ',f1_score(y_test,xg_predictions_tuned))"
   ]
  },
  {
   "cell_type": "code",
   "execution_count": 57,
   "metadata": {},
   "outputs": [
    {
     "data": {
      "text/plain": [
       "array([[31878, 10044],\n",
       "       [13487, 30869]], dtype=int64)"
      ]
     },
     "execution_count": 57,
     "metadata": {},
     "output_type": "execute_result"
    }
   ],
   "source": [
    "confusion_matrix(y_test, xg_predictions_tuned)"
   ]
  },
  {
   "cell_type": "code",
   "execution_count": null,
   "metadata": {},
   "outputs": [],
   "source": []
  }
 ],
 "metadata": {
  "kernelspec": {
   "display_name": "Python 3",
   "language": "python",
   "name": "python3"
  },
  "language_info": {
   "codemirror_mode": {
    "name": "ipython",
    "version": 3
   },
   "file_extension": ".py",
   "mimetype": "text/x-python",
   "name": "python",
   "nbconvert_exporter": "python",
   "pygments_lexer": "ipython3",
   "version": "3.8.5"
  }
 },
 "nbformat": 4,
 "nbformat_minor": 5
}
