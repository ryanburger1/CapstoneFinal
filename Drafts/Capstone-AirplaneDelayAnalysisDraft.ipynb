{
 "cells": [
  {
   "cell_type": "code",
   "execution_count": 1,
   "id": "b7081aa9",
   "metadata": {},
   "outputs": [],
   "source": [
    "import pandas as pd \n",
    "import numpy as np\n",
    "import matplotlib.pyplot as plt\n",
    "import matplotlib.ticker as ticker\n",
    "from sklearn.preprocessing import OneHotEncoder\n",
    "import random"
   ]
  },
  {
   "cell_type": "code",
   "execution_count": 2,
   "id": "9f45f34d",
   "metadata": {},
   "outputs": [],
   "source": [
    "df_2009 = pd.read_csv('2009.csv')\n",
    "df_2010 = pd.read_csv('2010.csv')\n",
    "df_2011 = pd.read_csv('2011.csv')\n",
    "df_2012 = pd.read_csv('2012.csv')\n",
    "df_2013 = pd.read_csv('2013.csv')\n",
    "df_2014 = pd.read_csv('2014.csv')\n",
    "df_2015 = pd.read_csv('2015.csv')\n",
    "df_2016 = pd.read_csv('2016.csv')\n",
    "df_2017 = pd.read_csv('2017.csv')\n",
    "df_2018 = pd.read_csv('2018.csv')\n",
    "df_2019 = pd.read_csv('2019.csv')"
   ]
  },
  {
   "cell_type": "code",
   "execution_count": 3,
   "id": "2a65b389",
   "metadata": {},
   "outputs": [],
   "source": [
    "US_Airports = [\"DCA\", \"EWR\", \"IAD\", \"ATL\", \"CLE\", \"ORD\", \"BWI\", \"GSO\", \"JAN\", \"IAH\", \"MSP\", \"JAX\", \"CRP\", \"PIT\", \"TYS\", \"ALB\", \"OKC\",\n",
    "\"MCI\", \"CHS\", \"BHM\", \"ABQ\", \"ORF\", \"RSW\", \"BUF\", \"IND\", \"COS\", \"MAF\", \"CLT\", \"DTW\", \"CVG\", \"ELP\", \"GRR\", \"DFW\", \"MKE\", \"CMH\",\n",
    "\"LGA\", \"RDU\", \"LIT\", \"MFE\", \"MHT\", \"OMA\", \"DAL\", \"LBB\", \"TUS\", \"MEM\", \"TUL\", \"LEX\", \"RIC\", \"MOB\", \"MSN\", \"ICT\", \"GSP\", \"BRO\",\n",
    "\"DAY\", \"BTR\", \"PHL\", \"PVD\", \"AVL\", \"BDL\", \"BTV\", \"MIA\", \"BOS\", \"BNA\", \"STL\", \"GPT\", \"HSV\", \"SHV\", \"SLC\", \"PNS\", \"PBI\", \"SAV\",\n",
    "\"TPA\", \"SDF\", \"ROC\", \"DSM\", \"XNA\", \"LRD\", \"BGR\", \"VPS\", \"ABE\", \"PHX\", \"AMA\", \"SYR\", \"CAE\", \"CRW\", \"AUS\", \"MSY\", \"ATW\", \"BFL\",\n",
    "\"BUR\", \"CID\", \"COD\", \"CPR\", \"CWA\", \"DEN\", \"DRO\", \"EGE\", \"FAT\", \"FAY\", \"FLG\", \"FSD\", \"FWA\", \"GCC\", \"GJT\", \"GRB\", \"HNL\", \"ILM\",\n",
    "\"ITO\", \"JFK\", \"KOA\", \"LAN\", \"LAS\", \"LAX\", \"LGB\", \"LIH\", \"MBS\", \"MDT\", \"MLI\", \"MRY\", \"MTJ\", \"OAK\", \"OGG\", \"ONT\", \"PSP\", \"PWM\",\n",
    "\"RAP\", \"RKS\", \"RNO\", \"ROA\", \"SAN\", \"SAT\", \"SBA\", \"SBN\", \"SBP\", \"SNA\", \"SPI\", \"TEX\", \"TVC\", \"YUM\", \"SRQ\", \"HDN\", \"SMF\", \"FNT\",\n",
    "\"DLH\", \"MDW\", \"HTS\", \"AZO\", \"FLL\", \"AVP\", \"BOI\", \"HLN\", \"BZN\", \"IDA\", \"FCA\", \"GEG\", \"GTF\", \"JAC\", \"MSO\", \"BIL\", \"ASE\", \"PDX\",\n",
    "\"ACV\", \"EUG\", \"GUC\", \"MFR\", \"PSC\", \"SEA\", \"SFO\", \"BTM\", \"RDM\", \"LWS\", \"SJC\", \"IYK\", \"SMX\", \"OXR\", \"RDD\", \"CEC\", \"SGU\", \"MOD\",\n",
    "\"OTH\", \"CLD\", \"LMT\", \"CIC\", \"IPL\", \"LNK\", \"BIS\", \"FAR\", \"CAK\", \"PIA\", \"SGF\", \"HPN\"]"
   ]
  },
  {
   "cell_type": "code",
   "execution_count": 4,
   "id": "df30f0df",
   "metadata": {},
   "outputs": [],
   "source": [
    "counts = df_2009.groupby('ORIGIN')['ORIGIN'].count()\n",
    "small_airports = counts.sort_values(ascending=True).head(30)\n",
    "airport_names = small_airports.index\n",
    "airports = airport_names.tolist()"
   ]
  },
  {
   "cell_type": "code",
   "execution_count": 5,
   "id": "7e6f92cb",
   "metadata": {},
   "outputs": [],
   "source": [
    "# Regionally done \n",
    "df_2009 = df_2009.loc[df_2009['ORIGIN'].isin(airports) & df_2009['DEST'].isin(airports)]\n",
    "df_2010 = df_2010.loc[df_2010['ORIGIN'].isin(airports) & df_2010['DEST'].isin(airports)]\n",
    "df_2011 = df_2011.loc[df_2011['ORIGIN'].isin(airports) & df_2011['DEST'].isin(airports)]\n",
    "df_2012 = df_2012.loc[df_2012['ORIGIN'].isin(airports) & df_2012['DEST'].isin(airports)]\n",
    "df_2013 = df_2013.loc[df_2013['ORIGIN'].isin(airports) & df_2013['DEST'].isin(airports)]\n",
    "df_2014 = df_2014.loc[df_2014['ORIGIN'].isin(airports) & df_2014['DEST'].isin(airports)]\n",
    "df_2015 = df_2015.loc[df_2015['ORIGIN'].isin(airports) & df_2015['DEST'].isin(airports)]\n",
    "df_2016 = df_2016.loc[df_2016['ORIGIN'].isin(airports) & df_2016['DEST'].isin(airports)]\n",
    "df_2017 = df_2017.loc[df_2017['ORIGIN'].isin(airports) & df_2017['DEST'].isin(airports)]\n",
    "df_2018 = df_2018.loc[df_2018['ORIGIN'].isin(airports) & df_2018['DEST'].isin(airports)]\n",
    "df_2019 = df_2019.loc[df_2019['ORIGIN'].isin(airports) & df_2019['DEST'].isin(airports)]\n",
    "\n",
    "# If nationally done \n",
    "# df_2009 = df_2009.loc[df_2009['ORIGIN'].isin(airports) & df_2009['DEST'].isin(airports)]\n",
    "# df_2010 = df_2010.loc[df_2010['ORIGIN'].isin(airports) & df_2010['DEST'].isin(airports)]\n",
    "# df_2011 = df_2011.loc[df_2011['ORIGIN'].isin(airports) & df_2011['DEST'].isin(airports)]\n",
    "# df_2012 = df_2012.loc[df_2012['ORIGIN'].isin(airports) & df_2012['DEST'].isin(airports)]\n",
    "# df_2013 = df_2013.loc[df_2013['ORIGIN'].isin(airports) & df_2013['DEST'].isin(airports)]\n",
    "# df_2014 = df_2014.loc[df_2014['ORIGIN'].isin(airports) & df_2014['DEST'].isin(airports)]\n",
    "# df_2015 = df_2015.loc[df_2015['ORIGIN'].isin(airports) & df_2015['DEST'].isin(airports)]\n",
    "# df_2016 = df_2016.loc[df_2016['ORIGIN'].isin(airports) & df_2016['DEST'].isin(airports)]\n",
    "# df_2017 = df_2017.loc[df_2017['ORIGIN'].isin(airports) & df_2017['DEST'].isin(airports)]\n",
    "# df_2018 = df_2018.loc[df_2018['ORIGIN'].isin(airports) & df_2018['DEST'].isin(airports)]\n",
    "# df_2019 = df_2019.loc[df_2019['ORIGIN'].isin(airports) & df_2019['DEST'].isin(airports)]"
   ]
  },
  {
   "cell_type": "code",
   "execution_count": 6,
   "id": "0bcd5707",
   "metadata": {},
   "outputs": [],
   "source": [
    "#Setting Lists for easier manipulation later on\n",
    "df_list = [df_2009, df_2010, df_2011, df_2012, df_2013, df_2014, df_2015, df_2016, df_2017, df_2018, df_2018, df_2019]\n",
    "df_list_train = [df_2009, df_2010, df_2011, df_2012, df_2013, df_2014, df_2015, df_2016, df_2017, df_2018]"
   ]
  },
  {
   "cell_type": "markdown",
   "id": "4590cbd9",
   "metadata": {},
   "source": [
    "# Exploratory Analysis: \n",
    "Please do not run through this code. The code below analyzes 2009 data to root out Null values and performes cleaning on just 2009 data. Please proceed to the next markdown if you would like to run through this project."
   ]
  },
  {
   "cell_type": "code",
   "execution_count": null,
   "id": "34ff0ddd",
   "metadata": {},
   "outputs": [],
   "source": [
    "df_2009.info()"
   ]
  },
  {
   "cell_type": "code",
   "execution_count": null,
   "id": "38eaf593",
   "metadata": {},
   "outputs": [],
   "source": [
    "df_2009['DEST'].unique()"
   ]
  },
  {
   "cell_type": "code",
   "execution_count": null,
   "id": "0abde8e0",
   "metadata": {},
   "outputs": [],
   "source": [
    "US_Airports = [\"DCA\", \"EWR\", \"IAD\", \"ATL\", \"CLE\", \"ORD\", \"BWI\", \"GSO\", \"JAN\", \"IAH\", \"MSP\", \"JAX\", \"CRP\", \"PIT\", \"TYS\", \"ALB\", \"OKC\",\n",
    "\"MCI\", \"CHS\", \"BHM\", \"ABQ\", \"ORF\", \"RSW\", \"BUF\", \"IND\", \"COS\", \"MAF\", \"CLT\", \"DTW\", \"CVG\", \"ELP\", \"GRR\", \"DFW\", \"MKE\", \"CMH\",\n",
    "\"LGA\", \"RDU\", \"LIT\", \"MFE\", \"MHT\", \"OMA\", \"DAL\", \"LBB\", \"TUS\", \"MEM\", \"TUL\", \"LEX\", \"RIC\", \"MOB\", \"MSN\", \"ICT\", \"GSP\", \"BRO\",\n",
    "\"DAY\", \"BTR\", \"PHL\", \"PVD\", \"AVL\", \"BDL\", \"BTV\", \"MIA\", \"BOS\", \"BNA\", \"STL\", \"GPT\", \"HSV\", \"SHV\", \"SLC\", \"PNS\", \"PBI\", \"SAV\",\n",
    "\"TPA\", \"SDF\", \"ROC\", \"DSM\", \"XNA\", \"LRD\", \"BGR\", \"VPS\", \"ABE\", \"PHX\", \"AMA\", \"SYR\", \"CAE\", \"CRW\", \"AUS\", \"MSY\", \"ATW\", \"BFL\",\n",
    "\"BUR\", \"CID\", \"COD\", \"CPR\", \"CWA\", \"DEN\", \"DRO\", \"EGE\", \"FAT\", \"FAY\", \"FLG\", \"FSD\", \"FWA\", \"GCC\", \"GJT\", \"GRB\", \"HNL\", \"ILM\",\n",
    "\"ITO\", \"JFK\", \"KOA\", \"LAN\", \"LAS\", \"LAX\", \"LGB\", \"LIH\", \"MBS\", \"MDT\", \"MLI\", \"MRY\", \"MTJ\", \"OAK\", \"OGG\", \"ONT\", \"PSP\", \"PWM\",\n",
    "\"RAP\", \"RKS\", \"RNO\", \"ROA\", \"SAN\", \"SAT\", \"SBA\", \"SBN\", \"SBP\", \"SNA\", \"SPI\", \"TEX\", \"TVC\", \"YUM\", \"SRQ\", \"HDN\", \"SMF\", \"FNT\",\n",
    "\"DLH\", \"MDW\", \"HTS\", \"AZO\", \"FLL\", \"AVP\", \"BOI\", \"HLN\", \"BZN\", \"IDA\", \"FCA\", \"GEG\", \"GTF\", \"JAC\", \"MSO\", \"BIL\", \"ASE\", \"PDX\",\n",
    "\"ACV\", \"EUG\", \"GUC\", \"MFR\", \"PSC\", \"SEA\", \"SFO\", \"BTM\", \"RDM\", \"LWS\", \"SJC\", \"IYK\", \"SMX\", \"OXR\", \"RDD\", \"CEC\", \"SGU\", \"MOD\",\n",
    "\"OTH\", \"CLD\", \"LMT\", \"CIC\", \"IPL\", \"LNK\", \"BIS\", \"FAR\", \"CAK\", \"PIA\", \"SGF\", \"HPN\"]\n"
   ]
  },
  {
   "cell_type": "code",
   "execution_count": null,
   "id": "30fa1e7e",
   "metadata": {},
   "outputs": [],
   "source": [
    "counts = df_2009.groupby('ORIGIN')['ORIGIN'].count()\n",
    "top_airports = counts.sort_values(ascending=False).head(40)\n",
    "airport_names = top_airports.index\n",
    "airports = airport_names.tolist()"
   ]
  },
  {
   "cell_type": "code",
   "execution_count": null,
   "id": "5c5ce844",
   "metadata": {},
   "outputs": [],
   "source": [
    "df_2009 = df_2009[df_2009['ORIGIN'].isin(airports) & df_2009['DEST'].isin(airports)]"
   ]
  },
  {
   "cell_type": "code",
   "execution_count": null,
   "id": "29044ae2",
   "metadata": {},
   "outputs": [],
   "source": [
    "df_2009.head()"
   ]
  },
  {
   "cell_type": "code",
   "execution_count": null,
   "id": "bfef6939",
   "metadata": {},
   "outputs": [],
   "source": [
    "df_2009.isnull().sum()"
   ]
  },
  {
   "cell_type": "code",
   "execution_count": null,
   "id": "08c8ddb2",
   "metadata": {},
   "outputs": [],
   "source": [
    "df_2009.drop(columns=['Unnamed: 27',\n",
    "                 'CRS_DEP_TIME',\n",
    "                 'CANCELLED',\n",
    "                 'CANCELLATION_CODE', \n",
    "                 'DIVERTED', \n",
    "                 'CRS_ELAPSED_TIME', \n",
    "                 'ACTUAL_ELAPSED_TIME',\n",
    "                 'CARRIER_DELAY',\n",
    "                 'WEATHER_DELAY',\n",
    "                 'NAS_DELAY',\n",
    "                 'SECURITY_DELAY', \n",
    "                 'CRS_ARR_TIME',\n",
    "                 'LATE_AIRCRAFT_DELAY'], inplace=True)"
   ]
  },
  {
   "cell_type": "code",
   "execution_count": null,
   "id": "f7c5364a",
   "metadata": {},
   "outputs": [],
   "source": [
    "df_2009.isnull().sum()"
   ]
  },
  {
   "cell_type": "code",
   "execution_count": null,
   "id": "95789006",
   "metadata": {},
   "outputs": [],
   "source": [
    "correlations = df_2009.corr()['Delay'].sort_values(ascending=False)\n",
    "print(correlations)"
   ]
  },
  {
   "cell_type": "code",
   "execution_count": null,
   "id": "d18458fa",
   "metadata": {},
   "outputs": [],
   "source": [
    "df_2009[df_2009['ARR_TIME'].isnull()]"
   ]
  },
  {
   "cell_type": "code",
   "execution_count": null,
   "id": "ba66348f",
   "metadata": {},
   "outputs": [],
   "source": [
    "df_2009.shape"
   ]
  },
  {
   "cell_type": "code",
   "execution_count": null,
   "id": "fdc01814",
   "metadata": {},
   "outputs": [],
   "source": [
    "df_2009.dropna(subset=['DEP_TIME',\n",
    "                       'DEP_DELAY', \n",
    "                       'TAXI_OUT', \n",
    "                       'WHEELS_OFF', \n",
    "                       'WHEELS_ON', \n",
    "                       'TAXI_IN', \n",
    "                       'ARR_TIME', \n",
    "                       'ARR_DELAY', \n",
    "                       'AIR_TIME'], inplace=True)\n",
    "df_2009.shape"
   ]
  },
  {
   "cell_type": "code",
   "execution_count": null,
   "id": "bcac0c17",
   "metadata": {},
   "outputs": [],
   "source": [
    "df_2009.info()"
   ]
  },
  {
   "cell_type": "markdown",
   "id": "04356a6c",
   "metadata": {},
   "source": [
    "**END of Exploratory Analysis**"
   ]
  },
  {
   "cell_type": "code",
   "execution_count": 7,
   "id": "037a509d",
   "metadata": {},
   "outputs": [],
   "source": [
    "for df in df_list:\n",
    "    df['Delay'] = np.where((df['CARRIER_DELAY'] > 0) | \n",
    "                           (df['WEATHER_DELAY'] > 0) | \n",
    "                           (df['NAS_DELAY'] > 0) | \n",
    "                           (df['SECURITY_DELAY'] > 0) | \n",
    "                           (df['LATE_AIRCRAFT_DELAY'] > 0), 1, 0)"
   ]
  },
  {
   "cell_type": "code",
   "execution_count": 8,
   "id": "1d2864ec",
   "metadata": {},
   "outputs": [],
   "source": [
    "for df in df_list_train:\n",
    "    df.drop(columns=['Unnamed: 27',\n",
    "                 'CRS_DEP_TIME',\n",
    "                 'CANCELLED',\n",
    "                 'CANCELLATION_CODE', \n",
    "                 'DIVERTED', \n",
    "                 'CRS_ELAPSED_TIME', \n",
    "                 'ACTUAL_ELAPSED_TIME',\n",
    "                 'CARRIER_DELAY',\n",
    "                 'WEATHER_DELAY',\n",
    "                 'NAS_DELAY',\n",
    "                 'SECURITY_DELAY', \n",
    "                 'CRS_ARR_TIME',\n",
    "                 'LATE_AIRCRAFT_DELAY'], inplace=True)\n",
    "    df.dropna(subset=['DEP_TIME',\n",
    "                       'DEP_DELAY', \n",
    "                       'TAXI_OUT', \n",
    "                       'WHEELS_OFF', \n",
    "                       'WHEELS_ON', \n",
    "                       'TAXI_IN', \n",
    "                       'ARR_TIME', \n",
    "                       'ARR_DELAY', \n",
    "                       'AIR_TIME'], inplace=True)\n",
    "    \n",
    "df_2019.drop(columns=['Unnamed: 20', \n",
    "                 'CARRIER_DELAY',\n",
    "                 'WEATHER_DELAY',\n",
    "                 'NAS_DELAY',\n",
    "                 'SECURITY_DELAY',\n",
    "                 'LATE_AIRCRAFT_DELAY'], inplace=True)\n",
    "df_2019.dropna(subset=['DEP_TIME',\n",
    "                       'DEP_DELAY', \n",
    "                       'TAXI_OUT', \n",
    "                       'WHEELS_OFF', \n",
    "                       'WHEELS_ON', \n",
    "                       'TAXI_IN', \n",
    "                       'ARR_TIME', \n",
    "                       'ARR_DELAY', \n",
    "                       'AIR_TIME'], inplace=True)\n",
    "df_2019.rename(columns = {'OP_UNIQUE_CARRIER':'OP_CARRIER'},inplace=True)\n",
    "df_test = df_2019\n"
   ]
  },
  {
   "cell_type": "code",
   "execution_count": 9,
   "id": "82b1ee69",
   "metadata": {},
   "outputs": [],
   "source": [
    "df_train = pd.concat([df_2009, df_2010, df_2011, df_2012, df_2013, df_2014, df_2015, df_2016, df_2017, df_2018])"
   ]
  },
  {
   "cell_type": "code",
   "execution_count": null,
   "id": "1d184f33",
   "metadata": {},
   "outputs": [],
   "source": [
    "df_2019.info()"
   ]
  },
  {
   "cell_type": "code",
   "execution_count": null,
   "id": "547afd32",
   "metadata": {},
   "outputs": [],
   "source": [
    "df_train.isnull().sum()"
   ]
  },
  {
   "cell_type": "code",
   "execution_count": null,
   "id": "c238666f",
   "metadata": {},
   "outputs": [],
   "source": [
    "df_train.shape"
   ]
  },
  {
   "cell_type": "code",
   "execution_count": null,
   "id": "a5bd8e52",
   "metadata": {},
   "outputs": [],
   "source": [
    "df_train.info()"
   ]
  },
  {
   "cell_type": "code",
   "execution_count": null,
   "id": "0a40296b",
   "metadata": {},
   "outputs": [],
   "source": [
    "in_list = df_train['OP_CARRIER'].isin(['AA', 'B6', 'WN', 'DL', 'F9', 'AS', 'NK', 'UA', '9E', 'CO', 'FL', 'HA'])\n",
    "df_train = df_train[in_list]\n",
    "in_list_1 = df_2019['OP_CARRIER'].isin(['AA', 'B6', 'WN', 'DL', 'F9', 'AS', 'NK', 'UA', '9E', 'CO', 'FL', 'HA'])\n",
    "df_test = df_2019[in_list_1]"
   ]
  },
  {
   "cell_type": "code",
   "execution_count": 10,
   "id": "42c13155",
   "metadata": {},
   "outputs": [],
   "source": [
    "df_train['date'] = pd.to_datetime(df_train['FL_DATE'])\n",
    "\n",
    "# Extract the year, month, and day of the week from the date field\n",
    "df_train['year'] = df_train['date'].dt.year\n",
    "df_train['month'] = df_train['date'].dt.month\n",
    "df_train['day_of_week'] = df_train['date'].dt.dayofweek\n",
    "\n",
    "# Drop the original date field\n",
    "df_train = df_train.drop(columns=['date', 'FL_DATE'])\n",
    "df_train= df_train[['year', 'month', 'day_of_week', 'OP_CARRIER', 'OP_CARRIER_FL_NUM', 'ORIGIN', 'DEST',\n",
    "                               'DEP_TIME', 'DEP_DELAY', 'TAXI_OUT', 'WHEELS_OFF', 'WHEELS_ON', 'TAXI_IN', 'ARR_TIME',\n",
    "                               'ARR_DELAY', 'AIR_TIME', 'DISTANCE', 'Delay']]\n",
    "\n",
    "df_test['date'] = pd.to_datetime(df_test['FL_DATE'])\n",
    "\n",
    "# Extract the year, month, and day of the week from the date field\n",
    "df_test['year'] = df_test['date'].dt.year\n",
    "df_test['month'] = df_test['date'].dt.month\n",
    "df_test['day_of_week'] = df_test['date'].dt.dayofweek\n",
    "\n",
    "# Drop the original date field\n",
    "df_test = df_test.drop(columns=['date', 'FL_DATE'])\n",
    "df_test = df_test[['year', 'month', 'day_of_week', 'OP_CARRIER', 'OP_CARRIER_FL_NUM', 'ORIGIN', 'DEST',\n",
    "                               'DEP_TIME', 'DEP_DELAY', 'TAXI_OUT', 'WHEELS_OFF', 'WHEELS_ON', 'TAXI_IN', 'ARR_TIME',\n",
    "                               'ARR_DELAY', 'AIR_TIME', 'DISTANCE', 'Delay']]"
   ]
  },
  {
   "cell_type": "code",
   "execution_count": 11,
   "id": "8b1e32d1",
   "metadata": {},
   "outputs": [],
   "source": [
    "df_train.dropna(subset=['year', 'month', 'day_of_week'], inplace=True)\n",
    "df_test.dropna(subset=['year', 'month', 'day_of_week'], inplace=True)"
   ]
  },
  {
   "cell_type": "code",
   "execution_count": null,
   "id": "f74d4c92",
   "metadata": {},
   "outputs": [],
   "source": [
    "df_train.info()"
   ]
  },
  {
   "cell_type": "code",
   "execution_count": 12,
   "id": "eb1d7d4b",
   "metadata": {},
   "outputs": [],
   "source": [
    "df_train = pd.get_dummies(df_train, columns=['OP_CARRIER', 'ORIGIN', 'DEST'])\n",
    "df_test = pd.get_dummies(df_test, columns=['OP_CARRIER', 'ORIGIN', 'DEST'])"
   ]
  },
  {
   "cell_type": "markdown",
   "id": "8146b9b5",
   "metadata": {},
   "source": [
    "# Graph Stuff "
   ]
  },
  {
   "cell_type": "code",
   "execution_count": null,
   "id": "c9058e40",
   "metadata": {},
   "outputs": [],
   "source": [
    "delay_counts = df_train.groupby('OP_CARRIER')['Delay'].size()\n",
    "\n",
    "print(delay_counts)"
   ]
  },
  {
   "cell_type": "code",
   "execution_count": null,
   "id": "f0898c71",
   "metadata": {},
   "outputs": [],
   "source": [
    "x_values = delay_counts.index\n",
    "y_values = delay_counts.values \n",
    "\n",
    "fig, ax = plt.subplots()\n",
    "\n",
    "ax.bar(x_values, y_values)\n",
    "\n",
    "ax.set_title('Delay Counts by Airline from 2009-2018')\n",
    "ax.set_xlabel('Airline')\n",
    "ax.set_ylabel('Delay Count')\n",
    "\n",
    "\n",
    "plt.show()"
   ]
  },
  {
   "cell_type": "markdown",
   "id": "300843e8",
   "metadata": {},
   "source": [
    "**End of Graph Stuff**"
   ]
  },
  {
   "cell_type": "code",
   "execution_count": 13,
   "id": "36d0ee00",
   "metadata": {},
   "outputs": [
    {
     "data": {
      "text/plain": [
       "(0, 15)"
      ]
     },
     "execution_count": 13,
     "metadata": {},
     "output_type": "execute_result"
    }
   ],
   "source": [
    "df_train.shape"
   ]
  },
  {
   "cell_type": "code",
   "execution_count": 14,
   "id": "3b8a9cd3",
   "metadata": {},
   "outputs": [
    {
     "data": {
      "text/plain": [
       "(0, 15)"
      ]
     },
     "execution_count": 14,
     "metadata": {},
     "output_type": "execute_result"
    }
   ],
   "source": [
    "df_test.shape"
   ]
  },
  {
   "cell_type": "code",
   "execution_count": null,
   "id": "668818c4",
   "metadata": {},
   "outputs": [],
   "source": [
    "from sklearn.model_selection import train_test_split\n",
    "\n",
    "X_train = df_train.drop(columns='Delay')\n",
    "y_train = df_train['Delay']\n",
    "X_test = df_test.drop(columns='Delay')\n",
    "y_test = df_test['Delay']\n",
    "\n",
    "X_train, X_test, y_train, y_test = train_test_split(X, y, random_state=0)"
   ]
  },
  {
   "cell_type": "code",
   "execution_count": null,
   "id": "ad7f9022",
   "metadata": {},
   "outputs": [],
   "source": [
    "from sklearn.linear_model import LogisticRegression\n",
    "from sklearn.model_selection import train_test_split\n",
    "\n",
    "model = LogisticRegression()\n",
    "\n",
    "model.fit(X_train, y_train)\n",
    "\n",
    "accuracy = model.score(X_test, y_test)\n",
    "print('Test accuracy:', accuracy)\n",
    "\n",
    "# # Make predictions on new data\n",
    "# new_data = [[...], [...], ...]  # input features for the new data\n",
    "# predictions = model.predict(new_data)\n",
    "# print('Predictions:', predictions)"
   ]
  },
  {
   "cell_type": "code",
   "execution_count": null,
   "id": "25c0f832",
   "metadata": {},
   "outputs": [],
   "source": []
  }
 ],
 "metadata": {
  "kernelspec": {
   "display_name": "Python 3 (ipykernel)",
   "language": "python",
   "name": "python3"
  },
  "language_info": {
   "codemirror_mode": {
    "name": "ipython",
    "version": 3
   },
   "file_extension": ".py",
   "mimetype": "text/x-python",
   "name": "python",
   "nbconvert_exporter": "python",
   "pygments_lexer": "ipython3",
   "version": "3.9.12"
  }
 },
 "nbformat": 4,
 "nbformat_minor": 5
}
